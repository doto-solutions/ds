{
 "cells": [
  {
   "cell_type": "code",
   "execution_count": 1,
   "id": "d262c2bc",
   "metadata": {},
   "outputs": [
    {
     "name": "stdout",
     "output_type": "stream",
     "text": [
      "shape: (3, 5)\n",
      "┌────────────┬──────────────┬─────────────┬──────────────┬─────────────┐\n",
      "│ species    ┆ sepal_length ┆ sepal_width ┆ petal_length ┆ petal_width │\n",
      "│ ---        ┆ ---          ┆ ---         ┆ ---          ┆ ---         │\n",
      "│ str        ┆ f64          ┆ f64         ┆ f64          ┆ f64         │\n",
      "╞════════════╪══════════════╪═════════════╪══════════════╪═════════════╡\n",
      "│ setosa     ┆ 116.9        ┆ 81.7        ┆ 33.2         ┆ 6.1         │\n",
      "│ versicolor ┆ 281.9        ┆ 131.8       ┆ 202.9        ┆ 63.3        │\n",
      "│ virginica  ┆ 324.5        ┆ 146.2       ┆ 273.1        ┆ 99.6        │\n",
      "└────────────┴──────────────┴─────────────┴──────────────┴─────────────┘\n"
     ]
    }
   ],
   "source": [
    "# import polars as pl\n",
    "\n",
    "# print(\n",
    "#     pl.read_csv(\"https://j.mp/iriscsv\")\n",
    "#     .lazy()\n",
    "#     .filter(pl.col(\"sepal_length\") > 5)\n",
    "#     .groupby(\"species\", maintain_order=True)\n",
    "#     .agg(pl.all().sum())\n",
    "#     .collect()\n",
    "# )"
   ]
  },
  {
   "cell_type": "code",
   "execution_count": 16,
   "id": "eae6b288",
   "metadata": {},
   "outputs": [
    {
     "name": "stdout",
     "output_type": "stream",
     "text": [
      "{'_airbyte_ab_id': Utf8, '_airbyte_emitted_at': Datetime(tu='ms', tz='+00:00'), 'id': Float64, 'name': Utf8, 'tags': Utf8, 'index': Float64, 'steps': Utf8, 'minutes': Float64, 'n_steps': Float64, 'nutrition': Utf8, 'recipe_id': Float64, 'submitted': Struct([Field('member0': Datetime(tu='us', tz='+00:00')), Field('member1': Utf8)]), 'description': Utf8, 'ingredients': Utf8, 'created_by_id': Float64, 'n_ingredients': Float64, 'updated_by_id': Float64, 'contributor_id': Float64, '_airbyte_additional_properties': List(Struct([Field('key': Utf8), Field('value': Utf8)]))}\n"
     ]
    }
   ],
   "source": [
    "import polars as pl\n",
    "df=pl.read_parquet_schema('./export.parquet')\n",
    "# print(df)\n",
    "df.head(3)"
   ]
  },
  {
   "cell_type": "code",
   "execution_count": null,
   "id": "d85464a9",
   "metadata": {},
   "outputs": [],
   "source": []
  }
 ],
 "metadata": {
  "kernelspec": {
   "display_name": "Python 3 (ipykernel)",
   "language": "python",
   "name": "python3"
  },
  "language_info": {
   "codemirror_mode": {
    "name": "ipython",
    "version": 3
   },
   "file_extension": ".py",
   "mimetype": "text/x-python",
   "name": "python",
   "nbconvert_exporter": "python",
   "pygments_lexer": "ipython3",
   "version": "3.10.9"
  }
 },
 "nbformat": 4,
 "nbformat_minor": 5
}
