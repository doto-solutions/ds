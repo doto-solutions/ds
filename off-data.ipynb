{
 "cells": [
  {
   "cell_type": "code",
   "execution_count": null,
   "id": "363bdb42",
   "metadata": {},
   "outputs": [
    {
     "ename": "",
     "evalue": "",
     "output_type": "error",
     "traceback": [
      "\u001b[1;31mRunning cells with 'recs' requires the ipykernel package.\n",
      "\u001b[1;31mRun the following command to install 'ipykernel' into the Python environment. \n",
      "\u001b[1;31mCommand: 'conda install -n recs ipykernel --update-deps --force-reinstall'"
     ]
    }
   ],
   "source": [
    "# %conda install --file requirements-poetry.txt\n",
    "%conda install toml pyarrow jupysql -c conda-forge"
   ]
  },
  {
   "cell_type": "code",
   "execution_count": null,
   "id": "0b814024",
   "metadata": {},
   "outputs": [],
   "source": [
    "# %pip install "
   ]
  },
  {
   "cell_type": "code",
   "execution_count": 12,
   "id": "2026ae1c",
   "metadata": {},
   "outputs": [],
   "source": [
    "# download assets from block storage at given URL \n",
    "# (our case is zipped folder served through LAN from another machine by miniserve)\n",
    "%reload_ext dotenv\n",
    "# %dotenv\n",
    "import os\n",
    "from urllib.request import urlretrieve\n",
    "from pathlib import Path\n",
    "\n",
    "ASSET_URL, out_file= (os.environ('ASSET_URL') ,'out/testing_data.tar.gz')\n",
    "\n",
    "if not Path(out_file).is_file():\n",
    "    os.makedirs(os.path.dirname(out_file), exist_ok=True)\n",
    "    folder_out, res = urlretrieve(ASSET_URL, filename=out_file)\n",
    "    print(folder_out)"
   ]
  },
  {
   "cell_type": "code",
   "execution_count": 2,
   "id": "5c5a531c",
   "metadata": {},
   "outputs": [
    {
     "name": "stdout",
     "output_type": "stream",
     "text": [
      "data\n",
      "data/en.openfoodfacts.org.products.csv\n",
      "data/en.openfoodfacts.org.products-delimited.csv\n"
     ]
    }
   ],
   "source": [
    "import tarfile\n",
    "\n",
    "# Extract files from tar\n",
    "with tarfile.open(out_file, \"r\") as file:\n",
    "    for each in file.getnames():\n",
    "        print(each)\n",
    "        file.extract(f'{each}')"
   ]
  },
  {
   "cell_type": "code",
   "execution_count": 3,
   "id": "ff769f64",
   "metadata": {},
   "outputs": [],
   "source": [
    "import polars as pl\n",
    "\n",
    "df = pl.scan_csv(\"./data/en.openfoodfacts.org.products-delimited.csv\",\n",
    "                 truncate_ragged_lines=True,\n",
    "                 )\n",
    "df.sink_parquet('./data/openfoodfacts_products-delimited.parquet',\n",
    "                compression=\"snappy\",\n",
    "                row_group_size=100_000,\n",
    "                statistics=True,\n",
    "                )"
   ]
  },
  {
   "cell_type": "code",
   "execution_count": 9,
   "id": "792d1433",
   "metadata": {},
   "outputs": [
    {
     "data": {
      "text/html": [
       "<span style=\"None\">Disabled &#x27;autopandas&#x27; since &#x27;autopolars&#x27; was enabled.</span>"
      ],
      "text/plain": [
       "Disabled 'autopandas' since 'autopolars' was enabled."
      ]
     },
     "metadata": {},
     "output_type": "display_data"
    },
    {
     "data": {
      "text/html": [
       "<span style=\"None\">The &#x27;toml&#x27; package isn&#x27;t installed. To load settings from the pyproject.toml file, install with: pip install toml</span>"
      ],
      "text/plain": [
       "The 'toml' package isn't installed. To load settings from the pyproject.toml file, install with: pip install toml"
      ]
     },
     "metadata": {},
     "output_type": "display_data"
    }
   ],
   "source": [
    "%reload_ext pyprql.magic\n",
    "%reload_ext sql\n",
    "\n",
    "%config SqlMagic.autopolars = True\n",
    "%config PrqlMagic.autopolars = True\n",
    "%config SqlMagic.named_parameters=True\n",
    "# recipes = os.environ['RECIPES_ASSET_URL']\n",
    "# !wget http://192.168.0.143:3003/recipes.parquet\n",
    "# !curl -sL https://raw.githubusercontent.com/mwaskom/seaborn-data/master/penguins.csv -o penguins.csv\n",
    "\n",
    "%prql duckdb:///doto.duckdb\n",
    "%sql duckdb:///doto.duckdb\n",
    "\n",
    "# %sql CREATE TABLE off_products AS SELECT * FROM read_parquet('./data/openfoodfacts_products.parquet') LIMIT 200\n",
    "# df = %sql SELECT * FROM read_parquet('./data/openfoodfacts_products.parquet')\n",
    "\n",
    "\n",
    "# df = %sql SELECT * FROM test_recipes WHERE REGEXP_MATCHES(name, 'mex*') \n",
    "# %sql SELECT n_ingredients FROM read_parquet('http://192.168.0.143:3003/recipes.parquet') WHERE REGEXP_MATCHES(name, 'mex*')\n",
    "# %sqlplot pie --table test_recipes --column minutes\n",
    "# TODO: doesn't work w/ polars\n",
    "# %sqlplot histogram --table test_recipes --column n_ingredients --bins 100\n",
    "\n",
    "# %sql SELECT * FROM test_recipes WHERE REGEXP_MATCHES(name, 'mex*')\n",
    "\n",
    "# display(df)\n",
    "\n",
    "# df = %prql prql target:sql.duckdb\n",
    "# prql target:sql.duckdb\n",
    "# from `test_recipes`  \n",
    "# sort {-n_ingredients} \n",
    "# display(df)\n"
   ]
  },
  {
   "cell_type": "code",
   "execution_count": 24,
   "id": "2846e3ed",
   "metadata": {},
   "outputs": [
    {
     "data": {
      "text/html": [
       "<span style=\"None\">Running query in &#x27;duckdb:///doto.duckdb&#x27;</span>"
      ],
      "text/plain": [
       "Running query in 'duckdb:///doto.duckdb'"
      ]
     },
     "metadata": {},
     "output_type": "display_data"
    },
    {
     "data": {
      "text/html": [
       "<div><style>\n",
       ".dataframe > thead > tr > th,\n",
       ".dataframe > tbody > tr > td {\n",
       "  text-align: right;\n",
       "  white-space: pre-wrap;\n",
       "}\n",
       "</style>\n",
       "<small>shape: (25_882, 19)</small><table border=\"1\" class=\"dataframe\"><thead><tr><th>_airbyte_ab_id</th><th>_airbyte_emitted_at</th><th>id</th><th>name</th><th>tags</th><th>index</th><th>steps</th><th>minutes</th><th>n_steps</th><th>nutrition</th><th>recipe_id</th><th>submitted</th><th>description</th><th>ingredients</th><th>created_by_id</th><th>n_ingredients</th><th>updated_by_id</th><th>contributor_id</th><th>_airbyte_additional_properties</th></tr><tr><td>str</td><td>datetime[μs, Asia/Kuala_Lumpur]</td><td>f64</td><td>str</td><td>str</td><td>f64</td><td>str</td><td>f64</td><td>f64</td><td>str</td><td>f64</td><td>struct[2]</td><td>str</td><td>str</td><td>f64</td><td>f64</td><td>f64</td><td>f64</td><td>list[struct[2]]</td></tr></thead><tbody><tr><td>&quot;28c06840-84cf-…</td><td>2023-01-04 22:47:23.852 +08</td><td>137739.0</td><td>&quot;arriba   baked…</td><td>&quot;[&quot;60-minutes-o…</td><td>0.0</td><td>&quot;[&quot;make a choic…</td><td>55.0</td><td>11.0</td><td>&quot;[51.5, 0.0, 13…</td><td>137739.0</td><td>{2005-09-16 08:00:00 +08,null}</td><td>&quot;autumn is my f…</td><td>&quot;[&quot;winter squas…</td><td>137739.0</td><td>7.0</td><td>137739.0</td><td>47892.0</td><td>null</td></tr><tr><td>&quot;a4680eb8-cb12-…</td><td>2023-01-04 22:47:23.852 +08</td><td>54272.0</td><td>&quot;fool the meat …</td><td>&quot;[&quot;60-minutes-o…</td><td>26.0</td><td>&quot;[&quot;rehydrate tv…</td><td>40.0</td><td>9.0</td><td>&quot;[295.6, 3.0, 5…</td><td>54272.0</td><td>{2003-02-17 08:00:00 +08,null}</td><td>&quot;this recipe wa…</td><td>&quot;[&quot;vegetarian g…</td><td>54272.0</td><td>12.0</td><td>54272.0</td><td>40525.0</td><td>null</td></tr><tr><td>&quot;aabe521a-9c39-…</td><td>2023-01-04 22:47:23.852 +08</td><td>59952.0</td><td>&quot;global gourmet…</td><td>&quot;[&quot;60-minutes-o…</td><td>31.0</td><td>&quot;[&quot;heat oven to…</td><td>55.0</td><td>11.0</td><td>&quot;[456.8, 40.0, …</td><td>59952.0</td><td>{2003-04-16 08:00:00 +08,null}</td><td>&quot;hey! i found t…</td><td>&quot;[&quot;ground beef&quot;…</td><td>59952.0</td><td>12.0</td><td>59952.0</td><td>28604.0</td><td>null</td></tr><tr><td>&quot;a878d1cd-5203-…</td><td>2023-01-04 22:47:23.852 +08</td><td>87098.0</td><td>&quot;homemade  vege…</td><td>&quot;[&quot;15-minutes-o…</td><td>35.0</td><td>&quot;[&quot;combine all …</td><td>12.0</td><td>6.0</td><td>&quot;[276.2, 3.0, 5…</td><td>87098.0</td><td>{2004-03-20 08:00:00 +08,null}</td><td>&quot;my friend just…</td><td>&quot;[&quot;low sodium c…</td><td>87098.0</td><td>8.0</td><td>87098.0</td><td>70662.0</td><td>null</td></tr><tr><td>&quot;5eb6dbe2-48ca-…</td><td>2023-01-04 22:47:23.852 +08</td><td>90921.0</td><td>&quot;i stole the id…</td><td>&quot;[&quot;30-minutes-o…</td><td>40.0</td><td>&quot;[&quot;in a large p…</td><td>18.0</td><td>8.0</td><td>&quot;[783.4, 46.0, …</td><td>90921.0</td><td>{2004-05-10 08:00:00 +08,null}</td><td>&quot;i love mirj&#x27;s …</td><td>&quot;[&quot;angel hair p…</td><td>90921.0</td><td>8.0</td><td>90921.0</td><td>15851.0</td><td>null</td></tr><tr><td>&quot;f3678ddc-973b-…</td><td>2023-01-04 22:47:23.852 +08</td><td>58224.0</td><td>&quot;immoral  sandw…</td><td>&quot;[&quot;60-minutes-o…</td><td>43.0</td><td>&quot;[&quot;brown the me…</td><td>35.0</td><td>6.0</td><td>&quot;[223.2, 22.0, …</td><td>58224.0</td><td>{2003-04-04 08:00:00 +08,null}</td><td>&quot;just the thing…</td><td>&quot;[&quot;ground beef&quot;…</td><td>58224.0</td><td>8.0</td><td>58224.0</td><td>37183.0</td><td>null</td></tr><tr><td>&quot;5afed554-918d-…</td><td>2023-01-04 22:47:23.852 +08</td><td>44045.0</td><td>&quot;mennonite  cor…</td><td>&quot;[&quot;15-minutes-o…</td><td>59.0</td><td>&quot;[&quot;combine eggs…</td><td>15.0</td><td>6.0</td><td>&quot;[67.1, 7.0, 2.…</td><td>44045.0</td><td>{2002-10-25 08:00:00 +08,null}</td><td>&quot;ok - my herita…</td><td>&quot;[&quot;fresh corn&quot;,…</td><td>44045.0</td><td>8.0</td><td>44045.0</td><td>41706.0</td><td>null</td></tr><tr><td>&quot;a1496daa-8342-…</td><td>2023-01-04 22:47:23.852 +08</td><td>60219.0</td><td>&quot;mexican pasta&quot;</td><td>&quot;[&quot;30-minutes-o…</td><td>60.0</td><td>&quot;[&quot;boil pasta a…</td><td>25.0</td><td>5.0</td><td>&quot;[325.3, 10.0, …</td><td>60219.0</td><td>{2003-04-18 08:00:00 +08,null}</td><td>&quot;made this as a…</td><td>&quot;[&quot;fettuccine p…</td><td>60219.0</td><td>6.0</td><td>60219.0</td><td>76846.0</td><td>null</td></tr><tr><td>&quot;ac48b566-8bfe-…</td><td>2023-01-04 22:47:23.852 +08</td><td>107229.0</td><td>&quot;open sesame  n…</td><td>&quot;[&quot;30-minutes-o…</td><td>73.0</td><td>&quot;[&quot;cook pasta i…</td><td>28.0</td><td>8.0</td><td>&quot;[617.5, 34.0, …</td><td>107229.0</td><td>{2004-12-30 08:00:00 +08,null}</td><td>&quot;this is a very…</td><td>&quot;[&quot;vermicelli&quot;,…</td><td>107229.0</td><td>12.0</td><td>107229.0</td><td>173674.0</td><td>null</td></tr><tr><td>&quot;0c1a9135-6eca-…</td><td>2023-01-04 22:47:23.852 +08</td><td>42570.0</td><td>&quot;pick me up  pa…</td><td>&quot;[&quot;30-minutes-o…</td><td>75.0</td><td>&quot;[&quot;combine all …</td><td>30.0</td><td>5.0</td><td>&quot;[213.6, 24.0, …</td><td>42570.0</td><td>{2002-10-07 08:00:00 +08,null}</td><td>&quot;serve as an ap…</td><td>&quot;[&quot;boneless chi…</td><td>42570.0</td><td>10.0</td><td>42570.0</td><td>6164.0</td><td>null</td></tr><tr><td>&quot;325bc922-9428-…</td><td>2023-01-04 22:47:23.852 +08</td><td>103948.0</td><td>&quot;smells like su…</td><td>&quot;[&quot;time-to-make…</td><td>85.0</td><td>&quot;[&quot;first of all…</td><td>90.0</td><td>20.0</td><td>&quot;[692.2, 53.0, …</td><td>103948.0</td><td>{2004-11-12 08:00:00 +08,null}</td><td>&quot;like many fami…</td><td>&quot;[&quot;boneless ski…</td><td>103948.0</td><td>15.0</td><td>103948.0</td><td>73836.0</td><td>null</td></tr><tr><td>&quot;d59cee53-b210-…</td><td>2023-01-04 22:47:23.852 +08</td><td>64045.0</td><td>&quot;some like it h…</td><td>&quot;[&quot;weeknight&quot;, …</td><td>87.0</td><td>&quot;[&quot;start with t…</td><td>70.0</td><td>11.0</td><td>&quot;[649.6, 55.0, …</td><td>64045.0</td><td>{2003-06-06 08:00:00 +08,null}</td><td>&quot;if you don&#x27;t l…</td><td>&quot;[&quot;onion&quot;, &quot;gar…</td><td>64045.0</td><td>20.0</td><td>64045.0</td><td>52448.0</td><td>null</td></tr><tr><td>&hellip;</td><td>&hellip;</td><td>&hellip;</td><td>&hellip;</td><td>&hellip;</td><td>&hellip;</td><td>&hellip;</td><td>&hellip;</td><td>&hellip;</td><td>&hellip;</td><td>&hellip;</td><td>&hellip;</td><td>&hellip;</td><td>&hellip;</td><td>&hellip;</td><td>&hellip;</td><td>&hellip;</td><td>&hellip;</td><td>&hellip;</td></tr><tr><td>&quot;8af845ed-7b48-…</td><td>2023-01-04 22:47:23.852 +08</td><td>31249.0</td><td>&quot;zucchini tomat…</td><td>&quot;[&quot;60-minutes-o…</td><td>231417.0</td><td>&quot;[&quot;in a large s…</td><td>35.0</td><td>4.0</td><td>&quot;[105.5, 6.0, 3…</td><td>31249.0</td><td>{2002-06-14 08:00:00 +08,null}</td><td>&quot;a spicy side o…</td><td>&quot;[&quot;zucchini&quot;, &quot;…</td><td>31249.0</td><td>10.0</td><td>31249.0</td><td>21487.0</td><td>null</td></tr><tr><td>&quot;559c1cc3-d048-…</td><td>2023-01-04 22:47:23.852 +08</td><td>40146.0</td><td>&quot;zucchini veggi…</td><td>&quot;[&quot;30-minutes-o…</td><td>231425.0</td><td>&quot;[&quot;put oil in l…</td><td>25.0</td><td>9.0</td><td>&quot;[117.0, 14.0, …</td><td>40146.0</td><td>{2002-09-13 08:00:00 +08,null}</td><td>&quot;this is a reci…</td><td>&quot;[&quot;vegetable oi…</td><td>40146.0</td><td>8.0</td><td>40146.0</td><td>53177.0</td><td>null</td></tr><tr><td>&quot;4d51e0e2-bfe7-…</td><td>2023-01-04 22:47:23.852 +08</td><td>54175.0</td><td>&quot;zucchini with …</td><td>&quot;[&quot;15-minutes-o…</td><td>231444.0</td><td>&quot;[&quot;whisk togeth…</td><td>10.0</td><td>7.0</td><td>&quot;[43.1, 5.0, 3.…</td><td>54175.0</td><td>{2003-02-16 08:00:00 +08,null}</td><td>&quot;saw this on fo…</td><td>&quot;[&quot;lemon&quot;, &quot;ext…</td><td>54175.0</td><td>7.0</td><td>54175.0</td><td>58038.0</td><td>null</td></tr><tr><td>&quot;bbb783cb-beb1-…</td><td>2023-01-04 22:47:23.852 +08</td><td>152200.0</td><td>&quot;zucchini with …</td><td>&quot;[&quot;60-minutes-o…</td><td>231451.0</td><td>&quot;[&quot;heat oil in …</td><td>40.0</td><td>7.0</td><td>&quot;[110.2, 9.0, 1…</td><td>152200.0</td><td>{2006-01-18 08:00:00 +08,null}</td><td>&quot;this recipe ca…</td><td>&quot;[&quot;extra virgin…</td><td>152200.0</td><td>5.0</td><td>152200.0</td><td>282965.0</td><td>null</td></tr><tr><td>&quot;27375c8d-895b-…</td><td>2023-01-04 22:47:23.852 +08</td><td>358200.0</td><td>&quot;zucchini with …</td><td>&quot;[&quot;30-minutes-o…</td><td>231459.0</td><td>&quot;[&quot;rinse the zu…</td><td>25.0</td><td>14.0</td><td>&quot;[99.6, 15.0, 7…</td><td>358200.0</td><td>{2009-02-28 08:00:00 +08,null}</td><td>&quot;a simple sauté…</td><td>&quot;[&quot;zucchini&quot;, &quot;…</td><td>358200.0</td><td>10.0</td><td>358200.0</td><td>865936.0</td><td>null</td></tr><tr><td>&quot;c2f66742-6207-…</td><td>2023-01-04 22:47:23.852 +08</td><td>97865.0</td><td>&quot;zucchini  onio…</td><td>&quot;[&quot;60-minutes-o…</td><td>231486.0</td><td>&quot;[&quot;using a cass…</td><td>50.0</td><td>5.0</td><td>&quot;[165.3, 19.0, …</td><td>97865.0</td><td>{2004-08-16 08:00:00 +08,null}</td><td>&quot;another way to…</td><td>&quot;[&quot;zucchini&quot;, &quot;…</td><td>97865.0</td><td>8.0</td><td>97865.0</td><td>49304.0</td><td>null</td></tr><tr><td>&quot;4dfb34fa-4bc6-…</td><td>2023-01-04 22:47:23.852 +08</td><td>73668.0</td><td>&quot;zucchini  pota…</td><td>&quot;[&quot;60-minutes-o…</td><td>231492.0</td><td>&quot;[&quot;heat the oil…</td><td>45.0</td><td>14.0</td><td>&quot;[97.8, 4.0, 24…</td><td>73668.0</td><td>{2003-10-20 08:00:00 +08,null}</td><td>null</td><td>&quot;[&quot;extra virgin…</td><td>73668.0</td><td>11.0</td><td>73668.0</td><td>29300.0</td><td>null</td></tr><tr><td>&quot;bd64a961-5d00-…</td><td>2023-01-04 22:47:23.852 +08</td><td>323797.0</td><td>&quot;zucchini lime …</td><td>&quot;[&quot;time-to-make…</td><td>231536.0</td><td>&quot;[&quot;preheat oven…</td><td>70.0</td><td>16.0</td><td>&quot;[237.7, 19.0, …</td><td>323797.0</td><td>{2008-09-07 08:00:00 +08,null}</td><td>&quot;a tropical spi…</td><td>&quot;[&quot;slivered alm…</td><td>323797.0</td><td>13.0</td><td>323797.0</td><td>534721.0</td><td>null</td></tr><tr><td>&quot;73a565fd-4fb8-…</td><td>2023-01-04 22:47:23.852 +08</td><td>70501.0</td><td>&quot;zucchini parme…</td><td>&quot;[&quot;30-minutes-o…</td><td>231539.0</td><td>&quot;[&quot;in a bowl , …</td><td>26.0</td><td>6.0</td><td>&quot;[397.2, 43.0, …</td><td>70501.0</td><td>{2003-09-04 08:00:00 +08,null}</td><td>&quot;if you love zu…</td><td>&quot;[&quot;flour&quot;, &quot;par…</td><td>70501.0</td><td>11.0</td><td>70501.0</td><td>89831.0</td><td>null</td></tr><tr><td>&quot;1b36a849-0213-…</td><td>2023-01-04 22:47:23.852 +08</td><td>358070.0</td><td>&quot;zucchini sesam…</td><td>&quot;[&quot;30-minutes-o…</td><td>231551.0</td><td>&quot;[&quot;preheat the …</td><td>30.0</td><td>8.0</td><td>&quot;[164.6, 12.0, …</td><td>358070.0</td><td>{2009-02-27 08:00:00 +08,null}</td><td>&quot;this is a very…</td><td>&quot;[&quot;zucchini&quot;, &quot;…</td><td>358070.0</td><td>9.0</td><td>358070.0</td><td>573325.0</td><td>null</td></tr><tr><td>&quot;3f539d31-7109-…</td><td>2023-01-04 22:47:23.852 +08</td><td>192793.0</td><td>&quot;zupas summer c…</td><td>&quot;[&quot;15-minutes-o…</td><td>231577.0</td><td>&quot;[&quot;in a medium …</td><td>10.0</td><td>8.0</td><td>&quot;[2954.6, 350.0…</td><td>192793.0</td><td>{2006-10-30 08:00:00 +08,null}</td><td>&quot;this recipe is…</td><td>&quot;[&quot;mixed greens…</td><td>192793.0</td><td>10.0</td><td>192793.0</td><td>250920.0</td><td>null</td></tr><tr><td>&quot;f30f7a73-3137-…</td><td>2023-01-04 22:47:23.852 +08</td><td>238017.0</td><td>&quot;zuurkool met s…</td><td>&quot;[&quot;time-to-make…</td><td>231614.0</td><td>&quot;[&quot;place pork h…</td><td>195.0</td><td>3.0</td><td>&quot;[32.4, 0.0, 12…</td><td>238017.0</td><td>{2007-07-01 08:00:00 +08,null}</td><td>&quot;hollanders lik…</td><td>&quot;[&quot;pork hocks&quot;,…</td><td>238017.0</td><td>3.0</td><td>238017.0</td><td>64642.0</td><td>null</td></tr></tbody></table></div>"
      ],
      "text/plain": [
       "shape: (25_882, 19)\n",
       "┌───────────┬───────────┬──────────┬───────────┬───┬───────────┬───────────┬───────────┬───────────┐\n",
       "│ _airbyte_ ┆ _airbyte_ ┆ id       ┆ name      ┆ … ┆ n_ingredi ┆ updated_b ┆ contribut ┆ _airbyte_ │\n",
       "│ ab_id     ┆ emitted_a ┆ ---      ┆ ---       ┆   ┆ ents      ┆ y_id      ┆ or_id     ┆ additiona │\n",
       "│ ---       ┆ t         ┆ f64      ┆ str       ┆   ┆ ---       ┆ ---       ┆ ---       ┆ l_propert │\n",
       "│ str       ┆ ---       ┆          ┆           ┆   ┆ f64       ┆ f64       ┆ f64       ┆ ies       │\n",
       "│           ┆ datetime[ ┆          ┆           ┆   ┆           ┆           ┆           ┆ ---       │\n",
       "│           ┆ μs, Asia/ ┆          ┆           ┆   ┆           ┆           ┆           ┆ list[stru │\n",
       "│           ┆ Kuala_Lum ┆          ┆           ┆   ┆           ┆           ┆           ┆ ct[2]]    │\n",
       "│           ┆ pur]      ┆          ┆           ┆   ┆           ┆           ┆           ┆           │\n",
       "╞═══════════╪═══════════╪══════════╪═══════════╪═══╪═══════════╪═══════════╪═══════════╪═══════════╡\n",
       "│ 28c06840- ┆ 2023-01-0 ┆ 137739.0 ┆ arriba    ┆ … ┆ 7.0       ┆ 137739.0  ┆ 47892.0   ┆ null      │\n",
       "│ 84cf-4644 ┆ 4 22:47:2 ┆          ┆ baked     ┆   ┆           ┆           ┆           ┆           │\n",
       "│ -8755-f2c ┆ 3.852 +08 ┆          ┆ winter    ┆   ┆           ┆           ┆           ┆           │\n",
       "│ bbe2c…    ┆           ┆          ┆ squash    ┆   ┆           ┆           ┆           ┆           │\n",
       "│           ┆           ┆          ┆ mex…      ┆   ┆           ┆           ┆           ┆           │\n",
       "│ a4680eb8- ┆ 2023-01-0 ┆ 54272.0  ┆ fool the  ┆ … ┆ 12.0      ┆ 54272.0   ┆ 40525.0   ┆ null      │\n",
       "│ cb12-406a ┆ 4 22:47:2 ┆          ┆ meat      ┆   ┆           ┆           ┆           ┆           │\n",
       "│ -a26b-b8a ┆ 3.852 +08 ┆          ┆ eaters    ┆   ┆           ┆           ┆           ┆           │\n",
       "│ a8433…    ┆           ┆          ┆ chili     ┆   ┆           ┆           ┆           ┆           │\n",
       "│ aabe521a- ┆ 2023-01-0 ┆ 59952.0  ┆ global    ┆ … ┆ 12.0      ┆ 59952.0   ┆ 28604.0   ┆ null      │\n",
       "│ 9c39-4b60 ┆ 4 22:47:2 ┆          ┆ gourmet   ┆   ┆           ┆           ┆           ┆           │\n",
       "│ -9c5d-2fa ┆ 3.852 +08 ┆          ┆ taco      ┆   ┆           ┆           ┆           ┆           │\n",
       "│ 07a3b…    ┆           ┆          ┆ casserole ┆   ┆           ┆           ┆           ┆           │\n",
       "│ a878d1cd- ┆ 2023-01-0 ┆ 87098.0  ┆ homemade  ┆ … ┆ 8.0       ┆ 87098.0   ┆ 70662.0   ┆ null      │\n",
       "│ 5203-419c ┆ 4 22:47:2 ┆          ┆ vegetable ┆   ┆           ┆           ┆           ┆           │\n",
       "│ -8c08-34e ┆ 3.852 +08 ┆          ┆ soup from ┆   ┆           ┆           ┆           ┆           │\n",
       "│ 2307f…    ┆           ┆          ┆ a …       ┆   ┆           ┆           ┆           ┆           │\n",
       "│ …         ┆ …         ┆ …        ┆ …         ┆ … ┆ …         ┆ …         ┆ …         ┆ …         │\n",
       "│ 73a565fd- ┆ 2023-01-0 ┆ 70501.0  ┆ zucchini  ┆ … ┆ 11.0      ┆ 70501.0   ┆ 89831.0   ┆ null      │\n",
       "│ 4fb8-41ba ┆ 4 22:47:2 ┆          ┆ parmesan  ┆   ┆           ┆           ┆           ┆           │\n",
       "│ -ad5c-be7 ┆ 3.852 +08 ┆          ┆ pancakes  ┆   ┆           ┆           ┆           ┆           │\n",
       "│ 0e79c…    ┆           ┆          ┆           ┆   ┆           ┆           ┆           ┆           │\n",
       "│ 1b36a849- ┆ 2023-01-0 ┆ 358070.0 ┆ zucchini  ┆ … ┆ 9.0       ┆ 358070.0  ┆ 573325.0  ┆ null      │\n",
       "│ 0213-4d5f ┆ 4 22:47:2 ┆          ┆ sesame    ┆   ┆           ┆           ┆           ┆           │\n",
       "│ -94d3-66d ┆ 3.852 +08 ┆          ┆ muffins   ┆   ┆           ┆           ┆           ┆           │\n",
       "│ b5854…    ┆           ┆          ┆           ┆   ┆           ┆           ┆           ┆           │\n",
       "│ 3f539d31- ┆ 2023-01-0 ┆ 192793.0 ┆ zupas     ┆ … ┆ 10.0      ┆ 192793.0  ┆ 250920.0  ┆ null      │\n",
       "│ 7109-4f93 ┆ 4 22:47:2 ┆          ┆ summer    ┆   ┆           ┆           ┆           ┆           │\n",
       "│ -9d25-95a ┆ 3.852 +08 ┆          ┆ chicken   ┆   ┆           ┆           ┆           ┆           │\n",
       "│ 5bb83…    ┆           ┆          ┆ salad     ┆   ┆           ┆           ┆           ┆           │\n",
       "│ f30f7a73- ┆ 2023-01-0 ┆ 238017.0 ┆ zuurkool  ┆ … ┆ 3.0       ┆ 238017.0  ┆ 64642.0   ┆ null      │\n",
       "│ 3137-4871 ┆ 4 22:47:2 ┆          ┆ met spek  ┆   ┆           ┆           ┆           ┆           │\n",
       "│ -b328-42f ┆ 3.852 +08 ┆          ┆ sauerkrau ┆   ┆           ┆           ┆           ┆           │\n",
       "│ 3c24d…    ┆           ┆          ┆ t a…      ┆   ┆           ┆           ┆           ┆           │\n",
       "└───────────┴───────────┴──────────┴───────────┴───┴───────────┴───────────┴───────────┴───────────┘"
      ]
     },
     "execution_count": 24,
     "metadata": {},
     "output_type": "execute_result"
    }
   ],
   "source": [
    "%%sql \n",
    "SELECT * FROM test_recipes \n",
    "WHERE REGEXP_MATCHES(name, 'mex*')"
   ]
  },
  {
   "cell_type": "code",
   "execution_count": 26,
   "id": "ace909ab",
   "metadata": {},
   "outputs": [
    {
     "data": {
      "text/html": [
       "<div><style>\n",
       ".dataframe > thead > tr > th,\n",
       ".dataframe > tbody > tr > td {\n",
       "  text-align: right;\n",
       "  white-space: pre-wrap;\n",
       "}\n",
       "</style>\n",
       "<small>shape: (21, 19)</small><table border=\"1\" class=\"dataframe\"><thead><tr><th>_airbyte_ab_id</th><th>_airbyte_emitted_at</th><th>id</th><th>name</th><th>tags</th><th>index</th><th>steps</th><th>minutes</th><th>n_steps</th><th>nutrition</th><th>recipe_id</th><th>submitted</th><th>description</th><th>ingredients</th><th>created_by_id</th><th>n_ingredients</th><th>updated_by_id</th><th>contributor_id</th><th>_airbyte_additional_properties</th></tr><tr><td>str</td><td>datetime[μs, Asia/Kuala_Lumpur]</td><td>f64</td><td>str</td><td>str</td><td>f64</td><td>str</td><td>f64</td><td>f64</td><td>str</td><td>f64</td><td>struct[2]</td><td>str</td><td>str</td><td>f64</td><td>f64</td><td>f64</td><td>f64</td><td>list[struct[2]]</td></tr></thead><tbody><tr><td>&quot;a61c66a9-adaf-…</td><td>2023-01-04 22:47:23.852 +08</td><td>24441.0</td><td>&quot;mexican chicke…</td><td>&quot;[&quot;weeknight&quot;, …</td><td>134046.0</td><td>&quot;[&quot;saut the chi…</td><td>330.0</td><td>10.0</td><td>&quot;[453.1, 14.0, …</td><td>24441.0</td><td>{2002-04-08 08:00:00 +08,null}</td><td>&quot;this is top se…</td><td>&quot;[&quot;chicken brea…</td><td>24441.0</td><td>24.0</td><td>24441.0</td><td>30716.0</td><td>null</td></tr><tr><td>&quot;37fc9d4e-fbec-…</td><td>2023-01-04 22:47:23.852 +08</td><td>352776.0</td><td>&quot;easy mexican t…</td><td>&quot;[&quot;60-minutes-o…</td><td>77143.0</td><td>&quot;[&quot;combine the …</td><td>40.0</td><td>7.0</td><td>&quot;[209.2, 5.0, 4…</td><td>352776.0</td><td>{2009-01-29 08:00:00 +08,null}</td><td>&quot;this is an eas…</td><td>&quot;[&quot;whole wheat …</td><td>352776.0</td><td>24.0</td><td>352776.0</td><td>754635.0</td><td>null</td></tr><tr><td>&quot;1d111500-14d8-…</td><td>2023-01-04 22:47:23.852 +08</td><td>114910.0</td><td>&quot;mexican style …</td><td>&quot;[&quot;30-minutes-o…</td><td>134728.0</td><td>&quot;[&quot;fry the baco…</td><td>30.0</td><td>8.0</td><td>&quot;[445.7, 58.0, …</td><td>114910.0</td><td>{2005-04-01 08:00:00 +08,null}</td><td>&quot;here&#x27;s my take…</td><td>&quot;[&quot;boneless ski…</td><td>114910.0</td><td>23.0</td><td>114910.0</td><td>39547.0</td><td>null</td></tr><tr><td>&quot;1193cd1f-52dd-…</td><td>2023-01-04 22:47:23.852 +08</td><td>490731.0</td><td>&quot;blackened mexi…</td><td>&quot;[&quot;30-minutes-o…</td><td>24975.0</td><td>&quot;[&quot;to prepare b…</td><td>30.0</td><td>13.0</td><td>&quot;[767.5, 88.0, …</td><td>490731.0</td><td>{2012-11-21 08:00:00 +08,null}</td><td>&quot;something new …</td><td>&quot;[&quot;chicken brea…</td><td>490731.0</td><td>23.0</td><td>490731.0</td><td>1.072593e6</td><td>null</td></tr><tr><td>&quot;16b9a4ee-2ac5-…</td><td>2023-01-04 22:47:23.852 +08</td><td>49084.0</td><td>&quot;mexican cheese…</td><td>&quot;[&quot;time-to-make…</td><td>134022.0</td><td>&quot;[&quot;heat oven to…</td><td>420.0</td><td>15.0</td><td>&quot;[324.5, 40.0, …</td><td>49084.0</td><td>{2002-12-17 08:00:00 +08,null}</td><td>&quot;this makes for…</td><td>&quot;[&quot;tortilla chi…</td><td>49084.0</td><td>22.0</td><td>49084.0</td><td>44689.0</td><td>null</td></tr><tr><td>&quot;f3f3474d-c533-…</td><td>2023-01-04 22:47:23.852 +08</td><td>222017.0</td><td>&quot;mexican spicy …</td><td>&quot;[&quot;time-to-make…</td><td>134675.0</td><td>&quot;[&quot;preheat oven…</td><td>70.0</td><td>24.0</td><td>&quot;[1133.4, 64.0,…</td><td>222017.0</td><td>{2007-04-11 08:00:00 +08,null}</td><td>&quot;from south ame…</td><td>&quot;[&quot;onion&quot;, &quot;gar…</td><td>222017.0</td><td>22.0</td><td>222017.0</td><td>353579.0</td><td>null</td></tr><tr><td>&quot;ddc4bfcc-817a-…</td><td>2023-01-04 22:47:23.852 +08</td><td>486261.0</td><td>&quot;mexican stack …</td><td>&quot;[&quot;time-to-make…</td><td>134684.0</td><td>&quot;[&quot;preheat broi…</td><td>75.0</td><td>28.0</td><td>&quot;[793.0, 83.0, …</td><td>486261.0</td><td>{2012-09-01 08:00:00 +08,null}</td><td>&quot;ready, set, co…</td><td>&quot;[&quot;poblano pepp…</td><td>486261.0</td><td>22.0</td><td>486261.0</td><td>226863.0</td><td>null</td></tr><tr><td>&quot;fc5b45d6-53b4-…</td><td>2023-01-04 22:47:23.852 +08</td><td>140012.0</td><td>&quot;mexican street…</td><td>&quot;[&quot;time-to-make…</td><td>134695.0</td><td>&quot;[&quot;to make the …</td><td>105.0</td><td>18.0</td><td>&quot;[989.3, 95.0, …</td><td>140012.0</td><td>{2005-10-04 08:00:00 +08,null}</td><td>&quot;from the tony …</td><td>&quot;[&quot;flank steaks…</td><td>140012.0</td><td>22.0</td><td>140012.0</td><td>120566.0</td><td>null</td></tr><tr><td>&quot;28e9a421-1975-…</td><td>2023-01-04 22:47:23.852 +08</td><td>365027.0</td><td>&quot;pinto bean chi…</td><td>&quot;[&quot;course&quot;, &quot;ma…</td><td>160804.0</td><td>&quot;[&quot;in a large s…</td><td>750.0</td><td>15.0</td><td>&quot;[486.1, 28.0, …</td><td>365027.0</td><td>{2009-04-08 08:00:00 +08,null}</td><td>&quot;beth hensperge…</td><td>&quot;[&quot;olive oil&quot;, …</td><td>365027.0</td><td>22.0</td><td>365027.0</td><td>37779.0</td><td>null</td></tr><tr><td>&quot;46565a7d-3802-…</td><td>2023-01-04 22:47:23.852 +08</td><td>338409.0</td><td>&quot;classic mexica…</td><td>&quot;[&quot;time-to-make…</td><td>54848.0</td><td>&quot;[&quot;mix all ingr…</td><td>90.0</td><td>4.0</td><td>&quot;[172.4, 10.0, …</td><td>338409.0</td><td>{2008-11-19 08:00:00 +08,null}</td><td>&quot;if you have ev…</td><td>&quot;[&quot;large shrimp…</td><td>338409.0</td><td>22.0</td><td>338409.0</td><td>1.02607e6</td><td>null</td></tr><tr><td>&quot;16a46023-26b0-…</td><td>2023-01-04 22:47:23.852 +08</td><td>531176.0</td><td>&quot;mashup mexican…</td><td>&quot;[&quot;time-to-make…</td><td>132004.0</td><td>&quot;[&quot;preheat a du…</td><td>120.0</td><td>23.0</td><td>&quot;[859.9, 66.0, …</td><td>531176.0</td><td>{2017-04-13 08:00:00 +08,null}</td><td>&quot;lasagna meets …</td><td>&quot;[&quot;olive oil&quot;, …</td><td>531176.0</td><td>21.0</td><td>531176.0</td><td>2.0016e9</td><td>null</td></tr><tr><td>&quot;204bfa7d-c1db-…</td><td>2023-01-04 22:47:23.852 +08</td><td>500139.0</td><td>&quot;mexican burger…</td><td>&quot;[&quot;30-minutes-o…</td><td>133981.0</td><td>&quot;[&quot;put the firs…</td><td>20.0</td><td>13.0</td><td>&quot;[687.7, 69.0, …</td><td>500139.0</td><td>{2013-05-12 08:00:00 +08,null}</td><td>&quot;these are savo…</td><td>&quot;[&quot;ground cumin…</td><td>500139.0</td><td>21.0</td><td>500139.0</td><td>2.324285e6</td><td>null</td></tr><tr><td>&quot;ba869b67-3a55-…</td><td>2023-01-04 22:47:23.852 +08</td><td>291621.0</td><td>&quot;mexican deligh…</td><td>&quot;[&quot;60-minutes-o…</td><td>134218.0</td><td>&quot;[&quot;combine garl…</td><td>50.0</td><td>7.0</td><td>&quot;[612.6, 62.0, …</td><td>291621.0</td><td>{2008-03-13 08:00:00 +08,null}</td><td>&quot;this is a reci…</td><td>&quot;[&quot;ground beef&quot;…</td><td>291621.0</td><td>21.0</td><td>291621.0</td><td>656881.0</td><td>null</td></tr><tr><td>&quot;a6eaf199-3426-…</td><td>2023-01-04 22:47:23.852 +08</td><td>342690.0</td><td>&quot;mexican tablec…</td><td>&quot;[&quot;60-minutes-o…</td><td>134751.0</td><td>&quot;[&quot;dredge meats…</td><td>60.0</td><td>17.0</td><td>&quot;[848.3, 77.0, …</td><td>342690.0</td><td>{2008-12-09 08:00:00 +08,null}</td><td>&quot;i got this onl…</td><td>&quot;[&quot;boneless por…</td><td>342690.0</td><td>21.0</td><td>342690.0</td><td>206101.0</td><td>null</td></tr><tr><td>&quot;194248c4-a793-…</td><td>2023-01-04 22:47:23.852 +08</td><td>330880.0</td><td>&quot;ole mole mexic…</td><td>&quot;[&quot;course&quot;, &quot;cu…</td><td>147367.0</td><td>&quot;[&quot;in large bow…</td><td>390.0</td><td>16.0</td><td>&quot;[542.2, 46.0, …</td><td>330880.0</td><td>{2008-10-15 08:00:00 +08,null}</td><td>&quot;a delicious ta…</td><td>&quot;[&quot;bacon&quot;, &quot;por…</td><td>330880.0</td><td>21.0</td><td>330880.0</td><td>269521.0</td><td>null</td></tr><tr><td>&quot;24d35780-8351-…</td><td>2023-01-04 22:47:23.852 +08</td><td>65156.0</td><td>&quot;salpicon  spic…</td><td>&quot;[&quot;weeknight&quot;, …</td><td>179378.0</td><td>&quot;[&quot;prepare bris…</td><td>280.0</td><td>12.0</td><td>&quot;[736.6, 95.0, …</td><td>65156.0</td><td>{2003-06-19 08:00:00 +08,null}</td><td>&quot;this hearty re…</td><td>&quot;[&quot;beef brisket…</td><td>65156.0</td><td>21.0</td><td>65156.0</td><td>47559.0</td><td>null</td></tr><tr><td>&quot;46229eb4-4cdc-…</td><td>2023-01-04 22:47:23.852 +08</td><td>258905.0</td><td>&quot;mexican bean  …</td><td>&quot;[&quot;60-minutes-o…</td><td>133911.0</td><td>&quot;[&quot;in a dutch o…</td><td>55.0</td><td>7.0</td><td>&quot;[264.5, 5.0, 2…</td><td>258905.0</td><td>{2007-10-13 08:00:00 +08,null}</td><td>&quot;this is one ea…</td><td>&quot;[&quot;onion&quot;, &quot;gar…</td><td>258905.0</td><td>20.0</td><td>258905.0</td><td>468146.0</td><td>null</td></tr><tr><td>&quot;5d2bb506-d604-…</td><td>2023-01-04 22:47:23.852 +08</td><td>174745.0</td><td>&quot;mexican beef t…</td><td>&quot;[&quot;time-to-make…</td><td>133938.0</td><td>&quot;[&quot;melt butter …</td><td>75.0</td><td>29.0</td><td>&quot;[640.8, 51.0, …</td><td>174745.0</td><td>{2006-06-26 08:00:00 +08,null}</td><td>&quot;here is a grea…</td><td>&quot;[&quot;butter&quot;, &quot;fl…</td><td>174745.0</td><td>20.0</td><td>174745.0</td><td>311140.0</td><td>null</td></tr><tr><td>&quot;59c32be4-2b2a-…</td><td>2023-01-04 22:47:23.852 +08</td><td>153465.0</td><td>&quot;mexican meatlo…</td><td>&quot;[&quot;time-to-make…</td><td>134426.0</td><td>&quot;[&quot;preheat oven…</td><td>120.0</td><td>19.0</td><td>&quot;[418.4, 26.0, …</td><td>153465.0</td><td>{2006-01-26 08:00:00 +08,null}</td><td>&quot;this recipe is…</td><td>&quot;[&quot;oil&quot;, &quot;onion…</td><td>153465.0</td><td>20.0</td><td>153465.0</td><td>282965.0</td><td>null</td></tr><tr><td>&quot;ff4828a7-799e-…</td><td>2023-01-04 22:47:23.852 +08</td><td>385965.0</td><td>&quot;mexican rice c…</td><td>&quot;[&quot;60-minutes-o…</td><td>134581.0</td><td>&quot;[&quot;preheat the …</td><td>60.0</td><td>17.0</td><td>&quot;[418.6, 14.0, …</td><td>385965.0</td><td>{2009-08-18 08:00:00 +08,null}</td><td>&quot;what a delicio…</td><td>&quot;[&quot;white rice&quot;,…</td><td>385965.0</td><td>20.0</td><td>385965.0</td><td>527607.0</td><td>null</td></tr><tr><td>&quot;64812702-616b-…</td><td>2023-01-04 22:47:23.852 +08</td><td>86664.0</td><td>&quot;sopa de albond…</td><td>&quot;[&quot;60-minutes-o…</td><td>191244.0</td><td>&quot;[&quot;in a dutch o…</td><td>50.0</td><td>12.0</td><td>&quot;[320.8, 24.0, …</td><td>86664.0</td><td>{2004-03-15 08:00:00 +08,null}</td><td>&quot;it&#x27;s kind of f…</td><td>&quot;[&quot;vegetable oi…</td><td>86664.0</td><td>20.0</td><td>86664.0</td><td>53859.0</td><td>null</td></tr></tbody></table></div>"
      ],
      "text/plain": [
       "shape: (21, 19)\n",
       "┌───────────┬───────────┬──────────┬───────────┬───┬───────────┬───────────┬───────────┬───────────┐\n",
       "│ _airbyte_ ┆ _airbyte_ ┆ id       ┆ name      ┆ … ┆ n_ingredi ┆ updated_b ┆ contribut ┆ _airbyte_ │\n",
       "│ ab_id     ┆ emitted_a ┆ ---      ┆ ---       ┆   ┆ ents      ┆ y_id      ┆ or_id     ┆ additiona │\n",
       "│ ---       ┆ t         ┆ f64      ┆ str       ┆   ┆ ---       ┆ ---       ┆ ---       ┆ l_propert │\n",
       "│ str       ┆ ---       ┆          ┆           ┆   ┆ f64       ┆ f64       ┆ f64       ┆ ies       │\n",
       "│           ┆ datetime[ ┆          ┆           ┆   ┆           ┆           ┆           ┆ ---       │\n",
       "│           ┆ μs, Asia/ ┆          ┆           ┆   ┆           ┆           ┆           ┆ list[stru │\n",
       "│           ┆ Kuala_Lum ┆          ┆           ┆   ┆           ┆           ┆           ┆ ct[2]]    │\n",
       "│           ┆ pur]      ┆          ┆           ┆   ┆           ┆           ┆           ┆           │\n",
       "╞═══════════╪═══════════╪══════════╪═══════════╪═══╪═══════════╪═══════════╪═══════════╪═══════════╡\n",
       "│ a61c66a9- ┆ 2023-01-0 ┆ 24441.0  ┆ mexican   ┆ … ┆ 24.0      ┆ 24441.0   ┆ 30716.0   ┆ null      │\n",
       "│ adaf-4225 ┆ 4 22:47:2 ┆          ┆ chicken   ┆   ┆           ┆           ┆           ┆           │\n",
       "│ -8922-c02 ┆ 3.852 +08 ┆          ┆ chili     ┆   ┆           ┆           ┆           ┆           │\n",
       "│ c07de…    ┆           ┆          ┆ soup      ┆   ┆           ┆           ┆           ┆           │\n",
       "│ 37fc9d4e- ┆ 2023-01-0 ┆ 352776.0 ┆ easy      ┆ … ┆ 24.0      ┆ 352776.0  ┆ 754635.0  ┆ null      │\n",
       "│ fbec-4033 ┆ 4 22:47:2 ┆          ┆ mexican   ┆   ┆           ┆           ┆           ┆           │\n",
       "│ -843b-d22 ┆ 3.852 +08 ┆          ┆ tvp       ┆   ┆           ┆           ┆           ┆           │\n",
       "│ c8e28…    ┆           ┆          ┆ skillet   ┆   ┆           ┆           ┆           ┆           │\n",
       "│           ┆           ┆          ┆ dinner    ┆   ┆           ┆           ┆           ┆           │\n",
       "│ 1d111500- ┆ 2023-01-0 ┆ 114910.0 ┆ mexican   ┆ … ┆ 23.0      ┆ 114910.0  ┆ 39547.0   ┆ null      │\n",
       "│ 14d8-4ee8 ┆ 4 22:47:2 ┆          ┆ style     ┆   ┆           ┆           ┆           ┆           │\n",
       "│ -b6f5-2a0 ┆ 3.852 +08 ┆          ┆ meat and  ┆   ┆           ┆           ┆           ┆           │\n",
       "│ aad9a…    ┆           ┆          ┆ vegetable ┆   ┆           ┆           ┆           ┆           │\n",
       "│           ┆           ┆          ┆ …         ┆   ┆           ┆           ┆           ┆           │\n",
       "│ 1193cd1f- ┆ 2023-01-0 ┆ 490731.0 ┆ blackened ┆ … ┆ 23.0      ┆ 490731.0  ┆ 1.072593e ┆ null      │\n",
       "│ 52dd-43ab ┆ 4 22:47:2 ┆          ┆ mexican   ┆   ┆           ┆           ┆ 6         ┆           │\n",
       "│ -83f4-40f ┆ 3.852 +08 ┆          ┆ caesar    ┆   ┆           ┆           ┆           ┆           │\n",
       "│ f3c3c…    ┆           ┆          ┆ salad r…  ┆   ┆           ┆           ┆           ┆           │\n",
       "│ …         ┆ …         ┆ …        ┆ …         ┆ … ┆ …         ┆ …         ┆ …         ┆ …         │\n",
       "│ 5d2bb506- ┆ 2023-01-0 ┆ 174745.0 ┆ mexican   ┆ … ┆ 20.0      ┆ 174745.0  ┆ 311140.0  ┆ null      │\n",
       "│ d604-4862 ┆ 4 22:47:2 ┆          ┆ beef      ┆   ┆           ┆           ┆           ┆           │\n",
       "│ -906e-ce9 ┆ 3.852 +08 ┆          ┆ tortilla  ┆   ┆           ┆           ┆           ┆           │\n",
       "│ fbf7b…    ┆           ┆          ┆ casserole ┆   ┆           ┆           ┆           ┆           │\n",
       "│ 59c32be4- ┆ 2023-01-0 ┆ 153465.0 ┆ mexican   ┆ … ┆ 20.0      ┆ 153465.0  ┆ 282965.0  ┆ null      │\n",
       "│ 2b2a-4ced ┆ 4 22:47:2 ┆          ┆ meatloaf  ┆   ┆           ┆           ┆           ┆           │\n",
       "│ -a358-442 ┆ 3.852 +08 ┆          ┆ and       ┆   ┆           ┆           ┆           ┆           │\n",
       "│ d50ae…    ┆           ┆          ┆ chipotle  ┆   ┆           ┆           ┆           ┆           │\n",
       "│           ┆           ┆          ┆ po…       ┆   ┆           ┆           ┆           ┆           │\n",
       "│ ff4828a7- ┆ 2023-01-0 ┆ 385965.0 ┆ mexican   ┆ … ┆ 20.0      ┆ 385965.0  ┆ 527607.0  ┆ null      │\n",
       "│ 799e-49a3 ┆ 4 22:47:2 ┆          ┆ rice      ┆   ┆           ┆           ┆           ┆           │\n",
       "│ -9401-8d1 ┆ 3.852 +08 ┆          ┆ casserole ┆   ┆           ┆           ┆           ┆           │\n",
       "│ 41ff9…    ┆           ┆          ┆ with      ┆   ┆           ┆           ┆           ┆           │\n",
       "│           ┆           ┆          ┆ grou…     ┆   ┆           ┆           ┆           ┆           │\n",
       "│ 64812702- ┆ 2023-01-0 ┆ 86664.0  ┆ sopa de   ┆ … ┆ 20.0      ┆ 86664.0   ┆ 53859.0   ┆ null      │\n",
       "│ 616b-4fa5 ┆ 4 22:47:2 ┆          ┆ albondiga ┆   ┆           ┆           ┆           ┆           │\n",
       "│ -b801-036 ┆ 3.852 +08 ┆          ┆ s         ┆   ┆           ┆           ┆           ┆           │\n",
       "│ 55f29…    ┆           ┆          ┆ mexican   ┆   ┆           ┆           ┆           ┆           │\n",
       "│           ┆           ┆          ┆ meat…     ┆   ┆           ┆           ┆           ┆           │\n",
       "└───────────┴───────────┴──────────┴───────────┴───┴───────────┴───────────┴───────────┴───────────┘"
      ]
     },
     "execution_count": 26,
     "metadata": {},
     "output_type": "execute_result"
    }
   ],
   "source": [
    "%%prql\n",
    "prql target:sql.duckdb\n",
    "\n",
    "from `test_recipes`  \n",
    "filter (name ~= \"mexican\")\n",
    "sort {-n_ingredients} \n",
    "take 5..25"
   ]
  }
 ],
 "metadata": {
  "kernelspec": {
   "display_name": "lab",
   "language": "python",
   "name": "python3"
  },
  "language_info": {
   "codemirror_mode": {
    "name": "ipython",
    "version": 3
   },
   "file_extension": ".py",
   "mimetype": "text/x-python",
   "name": "python",
   "nbconvert_exporter": "python",
   "pygments_lexer": "ipython3",
   "version": "3.10.13"
  }
 },
 "nbformat": 4,
 "nbformat_minor": 5
}
