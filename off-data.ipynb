{
 "cells": [
  {
   "cell_type": "code",
   "execution_count": null,
   "id": "363bdb42",
   "metadata": {},
   "outputs": [
    {
     "ename": "",
     "evalue": "",
     "output_type": "error",
     "traceback": [
      "\u001b[1;31mRunning cells with 'recs' requires the ipykernel package.\n",
      "\u001b[1;31mRun the following command to install 'ipykernel' into the Python environment. \n",
      "\u001b[1;31mCommand: 'conda install -n recs ipykernel --update-deps --force-reinstall'"
     ]
    }
   ],
   "source": [
    "# %conda install --file requirements-poetry.txt\n",
    "%conda install toml pyarrow jupysql -c conda-forge"
   ]
  },
  {
   "cell_type": "code",
   "execution_count": null,
   "id": "0b814024",
   "metadata": {},
   "outputs": [],
   "source": [
    "# %pip install "
   ]
  },
  {
   "cell_type": "code",
   "execution_count": 12,
   "id": "2026ae1c",
   "metadata": {},
   "outputs": [],
   "source": [
    "# download assets from block storage at given URL \n",
    "# (our case is zipped folder served through LAN from another machine by miniserve)\n",
    "%reload_ext dotenv\n",
    "# %dotenv\n",
    "import os\n",
    "from urllib.request import urlretrieve\n",
    "from pathlib import Path\n",
    "\n",
    "ASSET_URL, out_file= (os.environ('ASSET_URL') ,'out/testing_data.tar.gz')\n",
    "\n",
    "if not Path(out_file).is_file():\n",
    "    os.makedirs(os.path.dirname(out_file), exist_ok=True)\n",
    "    folder_out, res = urlretrieve(ASSET_URL, filename=out_file)\n",
    "    print(folder_out)"
   ]
  },
  {
   "cell_type": "code",
   "execution_count": 2,
   "id": "5c5a531c",
   "metadata": {},
   "outputs": [
    {
     "name": "stdout",
     "output_type": "stream",
     "text": [
      "data\n",
      "data/en.openfoodfacts.org.products.csv\n",
      "data/en.openfoodfacts.org.products-delimited.csv\n"
     ]
    }
   ],
   "source": [
    "import tarfile\n",
    "\n",
    "# Extract files from tar\n",
    "with tarfile.open(out_file, \"r\") as file:\n",
    "    for each in file.getnames():\n",
    "        print(each)\n",
    "        file.extract(f'{each}')"
   ]
  },
  {
   "cell_type": "code",
   "execution_count": 3,
   "id": "ff769f64",
   "metadata": {},
   "outputs": [],
   "source": [
    "import polars as pl\n",
    "\n",
    "df = pl.scan_csv(\"./data/en.openfoodfacts.org.products-delimited.csv\",\n",
    "                 truncate_ragged_lines=True,\n",
    "                 )\n",
    "df.sink_parquet('./data/openfoodfacts_products-delimited.parquet',\n",
    "                compression=\"snappy\",\n",
    "                row_group_size=100_000,\n",
    "                statistics=True,\n",
    "                )"
   ]
  },
  {
   "cell_type": "code",
   "execution_count": 3,
   "id": "792d1433",
   "metadata": {},
   "outputs": [
    {
     "ename": "SyntaxError",
     "evalue": "invalid syntax (1085949981.py, line 25)",
     "output_type": "error",
     "traceback": [
      "\u001b[0;36m  Cell \u001b[0;32mIn[3], line 25\u001b[0;36m\u001b[0m\n\u001b[0;31m    SELECT * FROM test_recipes\u001b[0m\n\u001b[0m                  ^\u001b[0m\n\u001b[0;31mSyntaxError\u001b[0m\u001b[0;31m:\u001b[0m invalid syntax\n"
     ]
    }
   ],
   "source": [
    "%reload_ext pyprql.magic\n",
    "%reload_ext sql\n",
    "\n",
    "%config PrqlMagic.autopolars = True\n",
    "%config SqlMagic.autopolars = True\n",
    "# recipes = os.environ['RECIPES_ASSET_URL']\n",
    "# !wget http://192.168.0.143:3003/recipes.parquet\n",
    "# !curl -sL https://raw.githubusercontent.com/mwaskom/seaborn-data/master/penguins.csv -o penguins.csv\n",
    "\n",
    "%prql duckdb:///doto.duckdb\n",
    "%sql duckdb:///doto.duckdb\n",
    "\n",
    "# %sql CREATE TABLE off_products AS SELECT * FROM read_parquet('./data/openfoodfacts_products.parquet') LIMIT 200\n",
    "# df = %sql SELECT * FROM read_parquet('./data/openfoodfacts_products.parquet')\n",
    "\n",
    "\n",
    "# df = %sql SELECT * FROM test_recipes WHERE REGEXP_MATCHES(name, 'mex*') \n",
    "# %sql SELECT n_ingredients FROM read_parquet('http://192.168.0.143:3003/recipes.parquet') WHERE REGEXP_MATCHES(name, 'mex*')\n",
    "# %sqlplot pie --table test_recipes --column minutes\n",
    "# TODO: doesn't work w/ polars\n",
    "# %sqlplot histogram --table test_recipes --column n_ingredients --bins 100\n",
    "\n",
    "# %sql SELECT * FROM test_recipes WHERE REGEXP_MATCHES(name, 'mex*')\n",
    "%%sql \n",
    "SELECT * FROM test_recipes \n",
    "WHERE REGEXP_MATCHES(name, 'mex*')\n",
    "# display(df)\n",
    "\n",
    "# df = %prql prql target:sql.duckdb\n",
    "# prql target:sql.duckdb\n",
    "# from `test_recipes`  \n",
    "# sort {-n_ingredients} \n",
    "# display(df)\n"
   ]
  }
 ],
 "metadata": {
  "kernelspec": {
   "display_name": "lab",
   "language": "python",
   "name": "python3"
  },
  "language_info": {
   "codemirror_mode": {
    "name": "ipython",
    "version": 3
   },
   "file_extension": ".py",
   "mimetype": "text/x-python",
   "name": "python",
   "nbconvert_exporter": "python",
   "pygments_lexer": "ipython3",
   "version": "3.10.13"
  }
 },
 "nbformat": 4,
 "nbformat_minor": 5
}
