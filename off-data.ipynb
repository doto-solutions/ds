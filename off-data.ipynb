{
 "cells": [
  {
   "cell_type": "code",
   "execution_count": null,
   "id": "363bdb42",
   "metadata": {},
   "outputs": [
    {
     "ename": "",
     "evalue": "",
     "output_type": "error",
     "traceback": [
      "\u001b[1;31mRunning cells with 'recs' requires the ipykernel package.\n",
      "\u001b[1;31mRun the following command to install 'ipykernel' into the Python environment. \n",
      "\u001b[1;31mCommand: 'conda install -n recs ipykernel --update-deps --force-reinstall'"
     ]
    }
   ],
   "source": [
    "%conda install --file requirements-poetry.txt"
   ]
  },
  {
   "cell_type": "code",
   "execution_count": 1,
   "id": "2026ae1c",
   "metadata": {},
   "outputs": [
    {
     "name": "stdout",
     "output_type": "stream",
     "text": [
      "out/testing_data.tar.gz\n"
     ]
    }
   ],
   "source": [
    "# download assets from block storage at given URL \n",
    "# (our case is zipped folder served through LAN from another machine by miniserve)\n",
    "%reload_ext dotenv\n",
    "# %dotenv\n",
    "import os\n",
    "from urllib.request import urlretrieve\n",
    "import tarfile\n",
    "\n",
    "ASSET_URL, out_file= (os.environ['ASSET_URL'] ,'out/testing_data.tar.gz')\n",
    "os.makedirs(os.path.dirname(out_file), exist_ok=True)\n",
    "\n",
    "\n",
    "folder_out, res = urlretrieve(ASSET_URL, filename=out_file)\n",
    "print(folder_out)\n",
    "# subprocess.call(f'wget -P {ASSET_DIR_OUT}/ --recursive --no-parent http://${ASSET_URL}/${ASSET_DIR}', shell=True)"
   ]
  },
  {
   "cell_type": "code",
   "execution_count": 2,
   "id": "5c5a531c",
   "metadata": {},
   "outputs": [
    {
     "name": "stdout",
     "output_type": "stream",
     "text": [
      "data\n",
      "data/en.openfoodfacts.org.products.csv\n",
      "data/en.openfoodfacts.org.products-delimited.csv\n"
     ]
    }
   ],
   "source": [
    "# Extract files from tar\n",
    "with tarfile.open(out_file, \"r\") as file:\n",
    "    for each in file.getnames():\n",
    "        print(each)\n",
    "        file.extract(f'{each}')"
   ]
  },
  {
   "cell_type": "code",
   "execution_count": 1,
   "id": "eae6b288",
   "metadata": {},
   "outputs": [
    {
     "ename": "ModuleNotFoundError",
     "evalue": "No module named 'polars'",
     "output_type": "error",
     "traceback": [
      "\u001b[0;31m---------------------------------------------------------------------------\u001b[0m",
      "\u001b[0;31mModuleNotFoundError\u001b[0m                       Traceback (most recent call last)",
      "\u001b[1;32m/Users/rusakov/startup/stack/bi/ds/Untitled.ipynb Cell 2\u001b[0m line \u001b[0;36m1\n\u001b[0;32m----> <a href='vscode-notebook-cell:/Users/rusakov/startup/stack/bi/ds/Untitled.ipynb#W1sZmlsZQ%3D%3D?line=0'>1</a>\u001b[0m \u001b[39mimport\u001b[39;00m \u001b[39mpolars\u001b[39;00m \u001b[39mas\u001b[39;00m \u001b[39mpl\u001b[39;00m\n\u001b[1;32m      <a href='vscode-notebook-cell:/Users/rusakov/startup/stack/bi/ds/Untitled.ipynb#W1sZmlsZQ%3D%3D?line=1'>2</a>\u001b[0m \u001b[39m# df=pl.read_parquet_schema('./export.parquet')\u001b[39;00m\n\u001b[1;32m      <a href='vscode-notebook-cell:/Users/rusakov/startup/stack/bi/ds/Untitled.ipynb#W1sZmlsZQ%3D%3D?line=2'>3</a>\u001b[0m df\u001b[39m=\u001b[39mpl\u001b[39m.\u001b[39mread_parquet(\u001b[39m'\u001b[39m\u001b[39m./export.parquet\u001b[39m\u001b[39m'\u001b[39m)\n",
      "\u001b[0;31mModuleNotFoundError\u001b[0m: No module named 'polars'"
     ]
    }
   ],
   "source": [
    "import polars as pl\n",
    "# df=pl.read_parquet_schema('./export.parquet')\n",
    "df=pl.read_parquet('./export.parquet')\n",
    "# print(df)\n",
    "df.head(3)"
   ]
  },
  {
   "cell_type": "code",
   "execution_count": 1,
   "id": "d85464a9",
   "metadata": {},
   "outputs": [
    {
     "ename": "",
     "evalue": "",
     "output_type": "error",
     "traceback": [
      "\u001b[1;31mThe Kernel crashed while executing code in the the current cell or a previous cell. Please review the code in the cell(s) to identify a possible cause of the failure. Click <a href='https://aka.ms/vscodeJupyterKernelCrash'>here</a> for more info. View Jupyter <a href='command:jupyter.viewOutput'>log</a> for further details."
     ]
    }
   ],
   "source": [
    "import polars as pl\n",
    "df=pl.read_parquet_schema('./export.parquet')\n",
    "print(df)\n"
   ]
  },
  {
   "cell_type": "code",
   "execution_count": 8,
   "id": "ff769f64",
   "metadata": {},
   "outputs": [],
   "source": [
    "import polars as pl\n",
    "\n",
    "df = pl.scan_csv(\"./data/en.openfoodfacts.org.products.csv\",\n",
    "                 truncate_ragged_lines=True,\n",
    "                 )\n",
    "df.sink_parquet('./data/openfoodfacts_products.parquet',\n",
    "                compression=\"snappy\",\n",
    "                row_group_size=100_00,\n",
    "                statistics=True,\n",
    "                )"
   ]
  },
  {
   "cell_type": "code",
   "execution_count": null,
   "id": "792d1433",
   "metadata": {},
   "outputs": [],
   "source": []
  }
 ],
 "metadata": {
  "kernelspec": {
   "display_name": "lab",
   "language": "python",
   "name": "python3"
  },
  "language_info": {
   "codemirror_mode": {
    "name": "ipython",
    "version": 3
   },
   "file_extension": ".py",
   "mimetype": "text/x-python",
   "name": "python",
   "nbconvert_exporter": "python",
   "pygments_lexer": "ipython3",
   "version": "3.10.13"
  }
 },
 "nbformat": 4,
 "nbformat_minor": 5
}
