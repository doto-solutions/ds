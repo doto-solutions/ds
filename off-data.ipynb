{
 "cells": [
  {
   "cell_type": "code",
   "execution_count": null,
   "id": "363bdb42",
   "metadata": {},
   "outputs": [
    {
     "ename": "",
     "evalue": "",
     "output_type": "error",
     "traceback": [
      "\u001b[1;31mRunning cells with 'recs' requires the ipykernel package.\n",
      "\u001b[1;31mRun the following command to install 'ipykernel' into the Python environment. \n",
      "\u001b[1;31mCommand: 'conda install -n recs ipykernel --update-deps --force-reinstall'"
     ]
    }
   ],
   "source": [
    "%conda install --file requirements-poetry.txt\n",
    "%conda install toml pyarrow\n",
    "%conda install "
   ]
  },
  {
   "cell_type": "code",
   "execution_count": null,
   "id": "0b814024",
   "metadata": {},
   "outputs": [],
   "source": [
    "# %pip install "
   ]
  },
  {
   "cell_type": "code",
   "execution_count": 12,
   "id": "2026ae1c",
   "metadata": {},
   "outputs": [],
   "source": [
    "# download assets from block storage at given URL \n",
    "# (our case is zipped folder served through LAN from another machine by miniserve)\n",
    "%reload_ext dotenv\n",
    "# %dotenv\n",
    "import os\n",
    "from urllib.request import urlretrieve\n",
    "from pathlib import Path\n",
    "\n",
    "ASSET_URL, out_file= (os.environ('ASSET_URL') ,'out/testing_data.tar.gz')\n",
    "\n",
    "if not Path(out_file).is_file():\n",
    "    os.makedirs(os.path.dirname(out_file), exist_ok=True)\n",
    "    folder_out, res = urlretrieve(ASSET_URL, filename=out_file)\n",
    "    print(folder_out)"
   ]
  },
  {
   "cell_type": "code",
   "execution_count": 2,
   "id": "5c5a531c",
   "metadata": {},
   "outputs": [
    {
     "name": "stdout",
     "output_type": "stream",
     "text": [
      "data\n",
      "data/en.openfoodfacts.org.products.csv\n",
      "data/en.openfoodfacts.org.products-delimited.csv\n"
     ]
    }
   ],
   "source": [
    "import tarfile\n",
    "\n",
    "# Extract files from tar\n",
    "with tarfile.open(out_file, \"r\") as file:\n",
    "    for each in file.getnames():\n",
    "        print(each)\n",
    "        file.extract(f'{each}')"
   ]
  },
  {
   "cell_type": "code",
   "execution_count": 1,
   "id": "eae6b288",
   "metadata": {},
   "outputs": [
    {
     "ename": "ModuleNotFoundError",
     "evalue": "No module named 'polars'",
     "output_type": "error",
     "traceback": [
      "\u001b[0;31m---------------------------------------------------------------------------\u001b[0m",
      "\u001b[0;31mModuleNotFoundError\u001b[0m                       Traceback (most recent call last)",
      "\u001b[1;32m/Users/rusakov/startup/stack/bi/ds/Untitled.ipynb Cell 2\u001b[0m line \u001b[0;36m1\n\u001b[0;32m----> <a href='vscode-notebook-cell:/Users/rusakov/startup/stack/bi/ds/Untitled.ipynb#W1sZmlsZQ%3D%3D?line=0'>1</a>\u001b[0m \u001b[39mimport\u001b[39;00m \u001b[39mpolars\u001b[39;00m \u001b[39mas\u001b[39;00m \u001b[39mpl\u001b[39;00m\n\u001b[1;32m      <a href='vscode-notebook-cell:/Users/rusakov/startup/stack/bi/ds/Untitled.ipynb#W1sZmlsZQ%3D%3D?line=1'>2</a>\u001b[0m \u001b[39m# df=pl.read_parquet_schema('./export.parquet')\u001b[39;00m\n\u001b[1;32m      <a href='vscode-notebook-cell:/Users/rusakov/startup/stack/bi/ds/Untitled.ipynb#W1sZmlsZQ%3D%3D?line=2'>3</a>\u001b[0m df\u001b[39m=\u001b[39mpl\u001b[39m.\u001b[39mread_parquet(\u001b[39m'\u001b[39m\u001b[39m./export.parquet\u001b[39m\u001b[39m'\u001b[39m)\n",
      "\u001b[0;31mModuleNotFoundError\u001b[0m: No module named 'polars'"
     ]
    }
   ],
   "source": [
    "import polars as pl\n",
    "# df=pl.read_parquet_schema('./export.parquet')\n",
    "df=pl.read_parquet('./export.parquet')\n",
    "# print(df)\n",
    "df.head(3)"
   ]
  },
  {
   "cell_type": "code",
   "execution_count": 3,
   "id": "ff769f64",
   "metadata": {},
   "outputs": [],
   "source": [
    "import polars as pl\n",
    "\n",
    "df = pl.scan_csv(\"./data/en.openfoodfacts.org.products-delimited.csv\",\n",
    "                 truncate_ragged_lines=True,\n",
    "                 )\n",
    "df.sink_parquet('./data/openfoodfacts_products-delimited.parquet',\n",
    "                compression=\"snappy\",\n",
    "                row_group_size=100_000,\n",
    "                statistics=True,\n",
    "                )"
   ]
  },
  {
   "cell_type": "code",
   "execution_count": 2,
   "id": "792d1433",
   "metadata": {},
   "outputs": [
    {
     "data": {
      "text/html": [
       "<span style=\"None\">Disabled &#x27;autopandas&#x27; since &#x27;autopolars&#x27; was enabled.</span>"
      ],
      "text/plain": [
       "Disabled 'autopandas' since 'autopolars' was enabled."
      ]
     },
     "metadata": {},
     "output_type": "display_data"
    },
    {
     "data": {
      "text/html": [
       "<span style=\"None\">Found pyproject.toml from &#x27;/Users/nr/craft/ds&#x27;</span>"
      ],
      "text/plain": [
       "Found pyproject.toml from '/Users/nr/craft/ds'"
      ]
     },
     "metadata": {},
     "output_type": "display_data"
    },
    {
     "data": {
      "text/html": [
       "<span style=\"None\">Removing NULLs, if there exists any from name and minutes</span>"
      ],
      "text/plain": [
       "Removing NULLs, if there exists any from name and minutes"
      ]
     },
     "metadata": {},
     "output_type": "display_data"
    },
    {
     "ename": "KeyboardInterrupt",
     "evalue": "",
     "output_type": "error",
     "traceback": [
      "\u001b[0;31m---------------------------------------------------------------------------\u001b[0m",
      "\u001b[0;31mKeyboardInterrupt\u001b[0m                         Traceback (most recent call last)",
      "\u001b[1;32m/Users/nr/craft/ds/off-data.ipynb Cell 7\u001b[0m line \u001b[0;36m1\n\u001b[1;32m     <a href='vscode-notebook-cell:/Users/nr/craft/ds/off-data.ipynb#W5sZmlsZQ%3D%3D?line=10'>11</a>\u001b[0m get_ipython()\u001b[39m.\u001b[39mrun_line_magic(\u001b[39m'\u001b[39m\u001b[39msql\u001b[39m\u001b[39m'\u001b[39m, \u001b[39m'\u001b[39m\u001b[39mduckdb:///doto.duckdb\u001b[39m\u001b[39m'\u001b[39m)\n\u001b[1;32m     <a href='vscode-notebook-cell:/Users/nr/craft/ds/off-data.ipynb#W5sZmlsZQ%3D%3D?line=12'>13</a>\u001b[0m \u001b[39m# %sql CREATE TABLE off_products AS SELECT * FROM read_parquet('./data/openfoodfacts_products.parquet') LIMIT 200\u001b[39;00m\n\u001b[1;32m     <a href='vscode-notebook-cell:/Users/nr/craft/ds/off-data.ipynb#W5sZmlsZQ%3D%3D?line=13'>14</a>\u001b[0m \u001b[39m# df = %sql SELECT * FROM read_parquet('./data/openfoodfacts_products.parquet')\u001b[39;00m\n\u001b[1;32m     <a href='vscode-notebook-cell:/Users/nr/craft/ds/off-data.ipynb#W5sZmlsZQ%3D%3D?line=14'>15</a>\u001b[0m \n\u001b[1;32m     <a href='vscode-notebook-cell:/Users/nr/craft/ds/off-data.ipynb#W5sZmlsZQ%3D%3D?line=15'>16</a>\u001b[0m \n\u001b[1;32m     <a href='vscode-notebook-cell:/Users/nr/craft/ds/off-data.ipynb#W5sZmlsZQ%3D%3D?line=16'>17</a>\u001b[0m \u001b[39m# df = %sql SELECT * FROM test_recipes WHERE REGEXP_MATCHES(name, 'mex*') \u001b[39;00m\n\u001b[1;32m     <a href='vscode-notebook-cell:/Users/nr/craft/ds/off-data.ipynb#W5sZmlsZQ%3D%3D?line=17'>18</a>\u001b[0m \u001b[39m# %sql SELECT n_ingredients FROM read_parquet('http://192.168.0.143:3003/recipes.parquet') WHERE REGEXP_MATCHES(name, 'mex*')\u001b[39;00m\n\u001b[0;32m---> <a href='vscode-notebook-cell:/Users/nr/craft/ds/off-data.ipynb#W5sZmlsZQ%3D%3D?line=18'>19</a>\u001b[0m get_ipython()\u001b[39m.\u001b[39;49mrun_line_magic(\u001b[39m'\u001b[39;49m\u001b[39msqlplot\u001b[39;49m\u001b[39m'\u001b[39;49m, \u001b[39m'\u001b[39;49m\u001b[39mpie --table test_recipes --column name minutes\u001b[39;49m\u001b[39m'\u001b[39;49m)\n\u001b[1;32m     <a href='vscode-notebook-cell:/Users/nr/craft/ds/off-data.ipynb#W5sZmlsZQ%3D%3D?line=19'>20</a>\u001b[0m \u001b[39m# TODO: doesn't work w/ polars\u001b[39;00m\n\u001b[1;32m     <a href='vscode-notebook-cell:/Users/nr/craft/ds/off-data.ipynb#W5sZmlsZQ%3D%3D?line=20'>21</a>\u001b[0m \u001b[39m# %sqlplot histogram --table test_recipes --column n_ingredients --bins 100\u001b[39;00m\n\u001b[1;32m     <a href='vscode-notebook-cell:/Users/nr/craft/ds/off-data.ipynb#W5sZmlsZQ%3D%3D?line=21'>22</a>\u001b[0m \n\u001b[0;32m   (...)\u001b[0m\n\u001b[1;32m     <a href='vscode-notebook-cell:/Users/nr/craft/ds/off-data.ipynb#W5sZmlsZQ%3D%3D?line=28'>29</a>\u001b[0m \u001b[39m# sort {-n_ingredients} \u001b[39;00m\n\u001b[1;32m     <a href='vscode-notebook-cell:/Users/nr/craft/ds/off-data.ipynb#W5sZmlsZQ%3D%3D?line=29'>30</a>\u001b[0m \u001b[39m# display(df)\u001b[39;00m\n",
      "File \u001b[0;32m~/anaconda3/envs/off/lib/python3.10/site-packages/IPython/core/interactiveshell.py:2454\u001b[0m, in \u001b[0;36mInteractiveShell.run_line_magic\u001b[0;34m(self, magic_name, line, _stack_depth)\u001b[0m\n\u001b[1;32m   2452\u001b[0m     kwargs[\u001b[39m'\u001b[39m\u001b[39mlocal_ns\u001b[39m\u001b[39m'\u001b[39m] \u001b[39m=\u001b[39m \u001b[39mself\u001b[39m\u001b[39m.\u001b[39mget_local_scope(stack_depth)\n\u001b[1;32m   2453\u001b[0m \u001b[39mwith\u001b[39;00m \u001b[39mself\u001b[39m\u001b[39m.\u001b[39mbuiltin_trap:\n\u001b[0;32m-> 2454\u001b[0m     result \u001b[39m=\u001b[39m fn(\u001b[39m*\u001b[39;49margs, \u001b[39m*\u001b[39;49m\u001b[39m*\u001b[39;49mkwargs)\n\u001b[1;32m   2456\u001b[0m \u001b[39m# The code below prevents the output from being displayed\u001b[39;00m\n\u001b[1;32m   2457\u001b[0m \u001b[39m# when using magics with decorator @output_can_be_silenced\u001b[39;00m\n\u001b[1;32m   2458\u001b[0m \u001b[39m# when the last Python token in the expression is a ';'.\u001b[39;00m\n\u001b[1;32m   2459\u001b[0m \u001b[39mif\u001b[39;00m \u001b[39mgetattr\u001b[39m(fn, magic\u001b[39m.\u001b[39mMAGIC_OUTPUT_CAN_BE_SILENCED, \u001b[39mFalse\u001b[39;00m):\n",
      "File \u001b[0;32m~/anaconda3/envs/off/lib/python3.10/site-packages/ploomber_core/exceptions.py:111\u001b[0m, in \u001b[0;36mmodify_exceptions.<locals>.wrapper\u001b[0;34m(*args, **kwargs)\u001b[0m\n\u001b[1;32m    108\u001b[0m \u001b[39m@wraps\u001b[39m(fn)\n\u001b[1;32m    109\u001b[0m \u001b[39mdef\u001b[39;00m \u001b[39mwrapper\u001b[39m(\u001b[39m*\u001b[39margs, \u001b[39m*\u001b[39m\u001b[39m*\u001b[39mkwargs):\n\u001b[1;32m    110\u001b[0m     \u001b[39mtry\u001b[39;00m:\n\u001b[0;32m--> 111\u001b[0m         \u001b[39mreturn\u001b[39;00m fn(\u001b[39m*\u001b[39;49margs, \u001b[39m*\u001b[39;49m\u001b[39m*\u001b[39;49mkwargs)\n\u001b[1;32m    112\u001b[0m     \u001b[39mexcept\u001b[39;00m (\u001b[39mValueError\u001b[39;00m, \u001b[39mTypeError\u001b[39;00m) \u001b[39mas\u001b[39;00m e:\n\u001b[1;32m    113\u001b[0m         _add_community_link(e)\n",
      "File \u001b[0;32m~/anaconda3/envs/off/lib/python3.10/site-packages/sql/magic_plot.py:148\u001b[0m, in \u001b[0;36mSqlPlotMagic.execute\u001b[0;34m(self, line, cell, local_ns)\u001b[0m\n\u001b[1;32m    139\u001b[0m     \u001b[39mreturn\u001b[39;00m plot\u001b[39m.\u001b[39mbar(\n\u001b[1;32m    140\u001b[0m         table\u001b[39m=\u001b[39mtable,\n\u001b[1;32m    141\u001b[0m         column\u001b[39m=\u001b[39mcolumn,\n\u001b[0;32m   (...)\u001b[0m\n\u001b[1;32m    145\u001b[0m         conn\u001b[39m=\u001b[39m\u001b[39mNone\u001b[39;00m,\n\u001b[1;32m    146\u001b[0m     )\n\u001b[1;32m    147\u001b[0m \u001b[39melif\u001b[39;00m cmd\u001b[39m.\u001b[39margs\u001b[39m.\u001b[39mline[\u001b[39m0\u001b[39m] \u001b[39min\u001b[39;00m {\u001b[39m\"\u001b[39m\u001b[39mpie\u001b[39m\u001b[39m\"\u001b[39m}:\n\u001b[0;32m--> 148\u001b[0m     \u001b[39mreturn\u001b[39;00m plot\u001b[39m.\u001b[39;49mpie(\n\u001b[1;32m    149\u001b[0m         table\u001b[39m=\u001b[39;49mtable,\n\u001b[1;32m    150\u001b[0m         column\u001b[39m=\u001b[39;49mcolumn,\n\u001b[1;32m    151\u001b[0m         with_\u001b[39m=\u001b[39;49mwith_,\n\u001b[1;32m    152\u001b[0m         show_num\u001b[39m=\u001b[39;49mcmd\u001b[39m.\u001b[39;49margs\u001b[39m.\u001b[39;49mshow_numbers,\n\u001b[1;32m    153\u001b[0m         conn\u001b[39m=\u001b[39;49m\u001b[39mNone\u001b[39;49;00m,\n\u001b[1;32m    154\u001b[0m     )\n",
      "File \u001b[0;32m~/anaconda3/envs/off/lib/python3.10/site-packages/ploomber_core/dependencies.py:40\u001b[0m, in \u001b[0;36mrequires.<locals>.decorator.<locals>.wrapper\u001b[0;34m(*args, **kwargs)\u001b[0m\n\u001b[1;32m     32\u001b[0m \u001b[39m@wraps\u001b[39m(f)\n\u001b[1;32m     33\u001b[0m \u001b[39mdef\u001b[39;00m \u001b[39mwrapper\u001b[39m(\u001b[39m*\u001b[39margs, \u001b[39m*\u001b[39m\u001b[39m*\u001b[39mkwargs):\n\u001b[1;32m     34\u001b[0m     check_installed(\n\u001b[1;32m     35\u001b[0m         pkgs\u001b[39m=\u001b[39mpkgs,\n\u001b[1;32m     36\u001b[0m         name\u001b[39m=\u001b[39mname \u001b[39mor\u001b[39;00m f\u001b[39m.\u001b[39m\u001b[39m__name__\u001b[39m,\n\u001b[1;32m     37\u001b[0m         extra_msg\u001b[39m=\u001b[39mextra_msg,\n\u001b[1;32m     38\u001b[0m         pip_names\u001b[39m=\u001b[39mpip_names,\n\u001b[1;32m     39\u001b[0m     )\n\u001b[0;32m---> 40\u001b[0m     \u001b[39mreturn\u001b[39;00m f(\u001b[39m*\u001b[39;49margs, \u001b[39m*\u001b[39;49m\u001b[39m*\u001b[39;49mkwargs)\n",
      "File \u001b[0;32m~/anaconda3/envs/off/lib/python3.10/site-packages/ploomber_core/telemetry/telemetry.py:636\u001b[0m, in \u001b[0;36mTelemetry.log_call.<locals>._log_call.<locals>.wrapper\u001b[0;34m(*args, **kwargs)\u001b[0m\n\u001b[1;32m    634\u001b[0m         result \u001b[39m=\u001b[39m func(\u001b[39m*\u001b[39minjected_args, \u001b[39m*\u001b[39m\u001b[39m*\u001b[39mkwargs)\n\u001b[1;32m    635\u001b[0m     \u001b[39melse\u001b[39;00m:\n\u001b[0;32m--> 636\u001b[0m         result \u001b[39m=\u001b[39m func(_payload, \u001b[39m*\u001b[39;49margs, \u001b[39m*\u001b[39;49m\u001b[39m*\u001b[39;49mkwargs)\n\u001b[1;32m    637\u001b[0m \u001b[39melse\u001b[39;00m:\n\u001b[1;32m    638\u001b[0m     result \u001b[39m=\u001b[39m func(\u001b[39m*\u001b[39margs, \u001b[39m*\u001b[39m\u001b[39m*\u001b[39mkwargs)\n",
      "File \u001b[0;32m~/anaconda3/envs/off/lib/python3.10/site-packages/sql/plot.py:1107\u001b[0m, in \u001b[0;36mpie\u001b[0;34m(payload, table, column, show_num, with_, conn, cmap, color, ax)\u001b[0m\n\u001b[1;32m   1100\u001b[0m     ax\u001b[39m.\u001b[39mpie(\n\u001b[1;32m   1101\u001b[0m         size_,\n\u001b[1;32m   1102\u001b[0m         labels\u001b[39m=\u001b[39mlabels,\n\u001b[1;32m   1103\u001b[0m         colors\u001b[39m=\u001b[39mcolor,\n\u001b[1;32m   1104\u001b[0m         autopct\u001b[39m=\u001b[39m\u001b[39m\"\u001b[39m\u001b[39m%1.2f\u001b[39;00m\u001b[39m%%\u001b[39;00m\u001b[39m\"\u001b[39m,\n\u001b[1;32m   1105\u001b[0m     )\n\u001b[1;32m   1106\u001b[0m \u001b[39melse\u001b[39;00m:\n\u001b[0;32m-> 1107\u001b[0m     ax\u001b[39m.\u001b[39;49mpie(\n\u001b[1;32m   1108\u001b[0m         size_,\n\u001b[1;32m   1109\u001b[0m         labels\u001b[39m=\u001b[39;49mlabels,\n\u001b[1;32m   1110\u001b[0m         colors\u001b[39m=\u001b[39;49mcolor,\n\u001b[1;32m   1111\u001b[0m     )\n\u001b[1;32m   1113\u001b[0m ax\u001b[39m.\u001b[39mset_title(table)\n\u001b[1;32m   1115\u001b[0m \u001b[39mreturn\u001b[39;00m ax\n",
      "File \u001b[0;32m~/anaconda3/envs/off/lib/python3.10/site-packages/matplotlib/__init__.py:1465\u001b[0m, in \u001b[0;36m_preprocess_data.<locals>.inner\u001b[0;34m(ax, data, *args, **kwargs)\u001b[0m\n\u001b[1;32m   1462\u001b[0m \u001b[39m@functools\u001b[39m\u001b[39m.\u001b[39mwraps(func)\n\u001b[1;32m   1463\u001b[0m \u001b[39mdef\u001b[39;00m \u001b[39minner\u001b[39m(ax, \u001b[39m*\u001b[39margs, data\u001b[39m=\u001b[39m\u001b[39mNone\u001b[39;00m, \u001b[39m*\u001b[39m\u001b[39m*\u001b[39mkwargs):\n\u001b[1;32m   1464\u001b[0m     \u001b[39mif\u001b[39;00m data \u001b[39mis\u001b[39;00m \u001b[39mNone\u001b[39;00m:\n\u001b[0;32m-> 1465\u001b[0m         \u001b[39mreturn\u001b[39;00m func(ax, \u001b[39m*\u001b[39;49m\u001b[39mmap\u001b[39;49m(sanitize_sequence, args), \u001b[39m*\u001b[39;49m\u001b[39m*\u001b[39;49mkwargs)\n\u001b[1;32m   1467\u001b[0m     bound \u001b[39m=\u001b[39m new_sig\u001b[39m.\u001b[39mbind(ax, \u001b[39m*\u001b[39margs, \u001b[39m*\u001b[39m\u001b[39m*\u001b[39mkwargs)\n\u001b[1;32m   1468\u001b[0m     auto_label \u001b[39m=\u001b[39m (bound\u001b[39m.\u001b[39marguments\u001b[39m.\u001b[39mget(label_namer)\n\u001b[1;32m   1469\u001b[0m                   \u001b[39mor\u001b[39;00m bound\u001b[39m.\u001b[39mkwargs\u001b[39m.\u001b[39mget(label_namer))\n",
      "File \u001b[0;32m~/anaconda3/envs/off/lib/python3.10/site-packages/matplotlib/axes/_axes.py:3301\u001b[0m, in \u001b[0;36mAxes.pie\u001b[0;34m(self, x, explode, labels, colors, autopct, pctdistance, shadow, labeldistance, startangle, radius, counterclock, wedgeprops, textprops, center, frame, rotatelabels, normalize, hatch)\u001b[0m\n\u001b[1;32m   3298\u001b[0m     label_alignment_v \u001b[39m=\u001b[39m \u001b[39m'\u001b[39m\u001b[39mbottom\u001b[39m\u001b[39m'\u001b[39m \u001b[39mif\u001b[39;00m yt \u001b[39m>\u001b[39m \u001b[39m0\u001b[39m \u001b[39melse\u001b[39;00m \u001b[39m'\u001b[39m\u001b[39mtop\u001b[39m\u001b[39m'\u001b[39m\n\u001b[1;32m   3299\u001b[0m     label_rotation \u001b[39m=\u001b[39m (np\u001b[39m.\u001b[39mrad2deg(thetam)\n\u001b[1;32m   3300\u001b[0m                       \u001b[39m+\u001b[39m (\u001b[39m0\u001b[39m \u001b[39mif\u001b[39;00m xt \u001b[39m>\u001b[39m \u001b[39m0\u001b[39m \u001b[39melse\u001b[39;00m \u001b[39m180\u001b[39m))\n\u001b[0;32m-> 3301\u001b[0m t \u001b[39m=\u001b[39m \u001b[39mself\u001b[39;49m\u001b[39m.\u001b[39;49mtext(xt, yt, label,\n\u001b[1;32m   3302\u001b[0m               clip_on\u001b[39m=\u001b[39;49m\u001b[39mFalse\u001b[39;49;00m,\n\u001b[1;32m   3303\u001b[0m               horizontalalignment\u001b[39m=\u001b[39;49mlabel_alignment_h,\n\u001b[1;32m   3304\u001b[0m               verticalalignment\u001b[39m=\u001b[39;49mlabel_alignment_v,\n\u001b[1;32m   3305\u001b[0m               rotation\u001b[39m=\u001b[39;49mlabel_rotation,\n\u001b[1;32m   3306\u001b[0m               size\u001b[39m=\u001b[39;49mmpl\u001b[39m.\u001b[39;49mrcParams[\u001b[39m'\u001b[39;49m\u001b[39mxtick.labelsize\u001b[39;49m\u001b[39m'\u001b[39;49m])\n\u001b[1;32m   3307\u001b[0m t\u001b[39m.\u001b[39mset(\u001b[39m*\u001b[39m\u001b[39m*\u001b[39mtextprops)\n\u001b[1;32m   3308\u001b[0m texts\u001b[39m.\u001b[39mappend(t)\n",
      "File \u001b[0;32m~/anaconda3/envs/off/lib/python3.10/site-packages/matplotlib/axes/_axes.py:702\u001b[0m, in \u001b[0;36mAxes.text\u001b[0;34m(self, x, y, s, fontdict, **kwargs)\u001b[0m\n\u001b[1;32m    700\u001b[0m t \u001b[39m=\u001b[39m mtext\u001b[39m.\u001b[39mText(x, y, text\u001b[39m=\u001b[39ms, \u001b[39m*\u001b[39m\u001b[39m*\u001b[39meffective_kwargs)\n\u001b[1;32m    701\u001b[0m \u001b[39mif\u001b[39;00m t\u001b[39m.\u001b[39mget_clip_path() \u001b[39mis\u001b[39;00m \u001b[39mNone\u001b[39;00m:\n\u001b[0;32m--> 702\u001b[0m     t\u001b[39m.\u001b[39;49mset_clip_path(\u001b[39mself\u001b[39;49m\u001b[39m.\u001b[39;49mpatch)\n\u001b[1;32m    703\u001b[0m \u001b[39mself\u001b[39m\u001b[39m.\u001b[39m_add_text(t)\n\u001b[1;32m    704\u001b[0m \u001b[39mreturn\u001b[39;00m t\n",
      "File \u001b[0;32m~/anaconda3/envs/off/lib/python3.10/site-packages/matplotlib/text.py:593\u001b[0m, in \u001b[0;36mText.set_clip_path\u001b[0;34m(self, path, transform)\u001b[0m\n\u001b[1;32m    591\u001b[0m \u001b[39mdef\u001b[39;00m \u001b[39mset_clip_path\u001b[39m(\u001b[39mself\u001b[39m, path, transform\u001b[39m=\u001b[39m\u001b[39mNone\u001b[39;00m):\n\u001b[1;32m    592\u001b[0m     \u001b[39m# docstring inherited.\u001b[39;00m\n\u001b[0;32m--> 593\u001b[0m     \u001b[39msuper\u001b[39;49m()\u001b[39m.\u001b[39;49mset_clip_path(path, transform)\n\u001b[1;32m    594\u001b[0m     \u001b[39mself\u001b[39m\u001b[39m.\u001b[39m_update_clip_properties()\n",
      "File \u001b[0;32m~/anaconda3/envs/off/lib/python3.10/site-packages/matplotlib/artist.py:803\u001b[0m, in \u001b[0;36mArtist.set_clip_path\u001b[0;34m(self, path, transform)\u001b[0m\n\u001b[1;32m    800\u001b[0m \u001b[39mif\u001b[39;00m transform \u001b[39mis\u001b[39;00m \u001b[39mNone\u001b[39;00m:\n\u001b[1;32m    801\u001b[0m     \u001b[39mif\u001b[39;00m \u001b[39misinstance\u001b[39m(path, Rectangle):\n\u001b[1;32m    802\u001b[0m         \u001b[39mself\u001b[39m\u001b[39m.\u001b[39mclipbox \u001b[39m=\u001b[39m TransformedBbox(Bbox\u001b[39m.\u001b[39munit(),\n\u001b[0;32m--> 803\u001b[0m                                        path\u001b[39m.\u001b[39;49mget_transform())\n\u001b[1;32m    804\u001b[0m         \u001b[39mself\u001b[39m\u001b[39m.\u001b[39m_clippath \u001b[39m=\u001b[39m \u001b[39mNone\u001b[39;00m\n\u001b[1;32m    805\u001b[0m         success \u001b[39m=\u001b[39m \u001b[39mTrue\u001b[39;00m\n",
      "File \u001b[0;32m~/anaconda3/envs/off/lib/python3.10/site-packages/matplotlib/patches.py:261\u001b[0m, in \u001b[0;36mPatch.get_transform\u001b[0;34m(self)\u001b[0m\n\u001b[1;32m    259\u001b[0m \u001b[39mdef\u001b[39;00m \u001b[39mget_transform\u001b[39m(\u001b[39mself\u001b[39m):\n\u001b[1;32m    260\u001b[0m \u001b[39m    \u001b[39m\u001b[39m\"\"\"Return the `~.transforms.Transform` applied to the `Patch`.\"\"\"\u001b[39;00m\n\u001b[0;32m--> 261\u001b[0m     \u001b[39mreturn\u001b[39;00m \u001b[39mself\u001b[39;49m\u001b[39m.\u001b[39;49mget_patch_transform() \u001b[39m+\u001b[39m artist\u001b[39m.\u001b[39mArtist\u001b[39m.\u001b[39mget_transform(\u001b[39mself\u001b[39m)\n",
      "File \u001b[0;32m~/anaconda3/envs/off/lib/python3.10/site-packages/matplotlib/patches.py:760\u001b[0m, in \u001b[0;36mRectangle.get_patch_transform\u001b[0;34m(self)\u001b[0m\n\u001b[1;32m    757\u001b[0m \u001b[39melse\u001b[39;00m:\n\u001b[1;32m    758\u001b[0m     rotation_point \u001b[39m=\u001b[39m \u001b[39mself\u001b[39m\u001b[39m.\u001b[39mrotation_point\n\u001b[1;32m    759\u001b[0m \u001b[39mreturn\u001b[39;00m transforms\u001b[39m.\u001b[39mBboxTransformTo(bbox) \\\n\u001b[0;32m--> 760\u001b[0m         \u001b[39m+\u001b[39m transforms\u001b[39m.\u001b[39;49mAffine2D() \\\n\u001b[1;32m    761\u001b[0m         \u001b[39m.\u001b[39mtranslate(\u001b[39m-\u001b[39mrotation_point[\u001b[39m0\u001b[39m], \u001b[39m-\u001b[39mrotation_point[\u001b[39m1\u001b[39m]) \\\n\u001b[1;32m    762\u001b[0m         \u001b[39m.\u001b[39mscale(\u001b[39m1\u001b[39m, \u001b[39mself\u001b[39m\u001b[39m.\u001b[39m_aspect_ratio_correction) \\\n\u001b[1;32m    763\u001b[0m         \u001b[39m.\u001b[39mrotate_deg(\u001b[39mself\u001b[39m\u001b[39m.\u001b[39mangle) \\\n\u001b[1;32m    764\u001b[0m         \u001b[39m.\u001b[39mscale(\u001b[39m1\u001b[39m, \u001b[39m1\u001b[39m \u001b[39m/\u001b[39m \u001b[39mself\u001b[39m\u001b[39m.\u001b[39m_aspect_ratio_correction) \\\n\u001b[1;32m    765\u001b[0m         \u001b[39m.\u001b[39mtranslate(\u001b[39m*\u001b[39mrotation_point)\n",
      "File \u001b[0;32m~/anaconda3/envs/off/lib/python3.10/site-packages/matplotlib/transforms.py:1899\u001b[0m, in \u001b[0;36mAffine2D.__init__\u001b[0;34m(self, matrix, **kwargs)\u001b[0m\n\u001b[1;32m   1889\u001b[0m \u001b[39mdef\u001b[39;00m \u001b[39m__init__\u001b[39m(\u001b[39mself\u001b[39m, matrix\u001b[39m=\u001b[39m\u001b[39mNone\u001b[39;00m, \u001b[39m*\u001b[39m\u001b[39m*\u001b[39mkwargs):\n\u001b[1;32m   1890\u001b[0m \u001b[39m    \u001b[39m\u001b[39m\"\"\"\u001b[39;00m\n\u001b[1;32m   1891\u001b[0m \u001b[39m    Initialize an Affine transform from a 3x3 numpy float array::\u001b[39;00m\n\u001b[1;32m   1892\u001b[0m \n\u001b[0;32m   (...)\u001b[0m\n\u001b[1;32m   1897\u001b[0m \u001b[39m    If *matrix* is None, initialize with the identity transform.\u001b[39;00m\n\u001b[1;32m   1898\u001b[0m \u001b[39m    \"\"\"\u001b[39;00m\n\u001b[0;32m-> 1899\u001b[0m     \u001b[39msuper\u001b[39;49m()\u001b[39m.\u001b[39;49m\u001b[39m__init__\u001b[39;49m(\u001b[39m*\u001b[39;49m\u001b[39m*\u001b[39;49mkwargs)\n\u001b[1;32m   1900\u001b[0m     \u001b[39mif\u001b[39;00m matrix \u001b[39mis\u001b[39;00m \u001b[39mNone\u001b[39;00m:\n\u001b[1;32m   1901\u001b[0m         \u001b[39m# A bit faster than np.identity(3).\u001b[39;00m\n\u001b[1;32m   1902\u001b[0m         matrix \u001b[39m=\u001b[39m IdentityTransform\u001b[39m.\u001b[39m_mtx\n",
      "File \u001b[0;32m~/anaconda3/envs/off/lib/python3.10/site-packages/matplotlib/transforms.py:1769\u001b[0m, in \u001b[0;36mAffineBase.__init__\u001b[0;34m(self, *args, **kwargs)\u001b[0m\n\u001b[1;32m   1764\u001b[0m \u001b[39m\u001b[39m\u001b[39m\"\"\"\u001b[39;00m\n\u001b[1;32m   1765\u001b[0m \u001b[39mThe base class of all affine transformations of any number of dimensions.\u001b[39;00m\n\u001b[1;32m   1766\u001b[0m \u001b[39m\"\"\"\u001b[39;00m\n\u001b[1;32m   1767\u001b[0m is_affine \u001b[39m=\u001b[39m \u001b[39mTrue\u001b[39;00m\n\u001b[0;32m-> 1769\u001b[0m \u001b[39mdef\u001b[39;00m \u001b[39m__init__\u001b[39m(\u001b[39mself\u001b[39m, \u001b[39m*\u001b[39margs, \u001b[39m*\u001b[39m\u001b[39m*\u001b[39mkwargs):\n\u001b[1;32m   1770\u001b[0m     \u001b[39msuper\u001b[39m()\u001b[39m.\u001b[39m\u001b[39m__init__\u001b[39m(\u001b[39m*\u001b[39margs, \u001b[39m*\u001b[39m\u001b[39m*\u001b[39mkwargs)\n\u001b[1;32m   1771\u001b[0m     \u001b[39mself\u001b[39m\u001b[39m.\u001b[39m_inverted \u001b[39m=\u001b[39m \u001b[39mNone\u001b[39;00m\n",
      "\u001b[0;31mKeyboardInterrupt\u001b[0m: "
     ]
    },
    {
     "name": "stdout",
     "output_type": "stream",
     "text": [
      "Error in callback <function _draw_all_if_interactive at 0x11d0501f0> (for post_execute):\n"
     ]
    },
    {
     "ename": "KeyboardInterrupt",
     "evalue": "",
     "output_type": "error",
     "traceback": [
      "\u001b[0;31m---------------------------------------------------------------------------\u001b[0m",
      "\u001b[0;31mKeyboardInterrupt\u001b[0m                         Traceback (most recent call last)",
      "File \u001b[0;32m~/anaconda3/envs/off/lib/python3.10/site-packages/matplotlib/pyplot.py:197\u001b[0m, in \u001b[0;36m_draw_all_if_interactive\u001b[0;34m()\u001b[0m\n\u001b[1;32m    195\u001b[0m \u001b[39mdef\u001b[39;00m \u001b[39m_draw_all_if_interactive\u001b[39m() \u001b[39m-\u001b[39m\u001b[39m>\u001b[39m \u001b[39mNone\u001b[39;00m:\n\u001b[1;32m    196\u001b[0m     \u001b[39mif\u001b[39;00m matplotlib\u001b[39m.\u001b[39mis_interactive():\n\u001b[0;32m--> 197\u001b[0m         draw_all()\n",
      "File \u001b[0;32m~/anaconda3/envs/off/lib/python3.10/site-packages/matplotlib/_pylab_helpers.py:132\u001b[0m, in \u001b[0;36mGcf.draw_all\u001b[0;34m(cls, force)\u001b[0m\n\u001b[1;32m    130\u001b[0m \u001b[39mfor\u001b[39;00m manager \u001b[39min\u001b[39;00m \u001b[39mcls\u001b[39m\u001b[39m.\u001b[39mget_all_fig_managers():\n\u001b[1;32m    131\u001b[0m     \u001b[39mif\u001b[39;00m force \u001b[39mor\u001b[39;00m manager\u001b[39m.\u001b[39mcanvas\u001b[39m.\u001b[39mfigure\u001b[39m.\u001b[39mstale:\n\u001b[0;32m--> 132\u001b[0m         manager\u001b[39m.\u001b[39;49mcanvas\u001b[39m.\u001b[39;49mdraw_idle()\n",
      "File \u001b[0;32m~/anaconda3/envs/off/lib/python3.10/site-packages/matplotlib/backend_bases.py:1893\u001b[0m, in \u001b[0;36mFigureCanvasBase.draw_idle\u001b[0;34m(self, *args, **kwargs)\u001b[0m\n\u001b[1;32m   1891\u001b[0m \u001b[39mif\u001b[39;00m \u001b[39mnot\u001b[39;00m \u001b[39mself\u001b[39m\u001b[39m.\u001b[39m_is_idle_drawing:\n\u001b[1;32m   1892\u001b[0m     \u001b[39mwith\u001b[39;00m \u001b[39mself\u001b[39m\u001b[39m.\u001b[39m_idle_draw_cntx():\n\u001b[0;32m-> 1893\u001b[0m         \u001b[39mself\u001b[39;49m\u001b[39m.\u001b[39;49mdraw(\u001b[39m*\u001b[39;49margs, \u001b[39m*\u001b[39;49m\u001b[39m*\u001b[39;49mkwargs)\n",
      "File \u001b[0;32m~/anaconda3/envs/off/lib/python3.10/site-packages/matplotlib/backends/backend_agg.py:388\u001b[0m, in \u001b[0;36mFigureCanvasAgg.draw\u001b[0;34m(self)\u001b[0m\n\u001b[1;32m    385\u001b[0m \u001b[39m# Acquire a lock on the shared font cache.\u001b[39;00m\n\u001b[1;32m    386\u001b[0m \u001b[39mwith\u001b[39;00m (\u001b[39mself\u001b[39m\u001b[39m.\u001b[39mtoolbar\u001b[39m.\u001b[39m_wait_cursor_for_draw_cm() \u001b[39mif\u001b[39;00m \u001b[39mself\u001b[39m\u001b[39m.\u001b[39mtoolbar\n\u001b[1;32m    387\u001b[0m       \u001b[39melse\u001b[39;00m nullcontext()):\n\u001b[0;32m--> 388\u001b[0m     \u001b[39mself\u001b[39;49m\u001b[39m.\u001b[39;49mfigure\u001b[39m.\u001b[39;49mdraw(\u001b[39mself\u001b[39;49m\u001b[39m.\u001b[39;49mrenderer)\n\u001b[1;32m    389\u001b[0m     \u001b[39m# A GUI class may be need to update a window using this draw, so\u001b[39;00m\n\u001b[1;32m    390\u001b[0m     \u001b[39m# don't forget to call the superclass.\u001b[39;00m\n\u001b[1;32m    391\u001b[0m     \u001b[39msuper\u001b[39m()\u001b[39m.\u001b[39mdraw()\n",
      "File \u001b[0;32m~/anaconda3/envs/off/lib/python3.10/site-packages/matplotlib/artist.py:95\u001b[0m, in \u001b[0;36m_finalize_rasterization.<locals>.draw_wrapper\u001b[0;34m(artist, renderer, *args, **kwargs)\u001b[0m\n\u001b[1;32m     93\u001b[0m \u001b[39m@wraps\u001b[39m(draw)\n\u001b[1;32m     94\u001b[0m \u001b[39mdef\u001b[39;00m \u001b[39mdraw_wrapper\u001b[39m(artist, renderer, \u001b[39m*\u001b[39margs, \u001b[39m*\u001b[39m\u001b[39m*\u001b[39mkwargs):\n\u001b[0;32m---> 95\u001b[0m     result \u001b[39m=\u001b[39m draw(artist, renderer, \u001b[39m*\u001b[39;49margs, \u001b[39m*\u001b[39;49m\u001b[39m*\u001b[39;49mkwargs)\n\u001b[1;32m     96\u001b[0m     \u001b[39mif\u001b[39;00m renderer\u001b[39m.\u001b[39m_rasterizing:\n\u001b[1;32m     97\u001b[0m         renderer\u001b[39m.\u001b[39mstop_rasterizing()\n",
      "File \u001b[0;32m~/anaconda3/envs/off/lib/python3.10/site-packages/matplotlib/artist.py:72\u001b[0m, in \u001b[0;36mallow_rasterization.<locals>.draw_wrapper\u001b[0;34m(artist, renderer)\u001b[0m\n\u001b[1;32m     69\u001b[0m     \u001b[39mif\u001b[39;00m artist\u001b[39m.\u001b[39mget_agg_filter() \u001b[39mis\u001b[39;00m \u001b[39mnot\u001b[39;00m \u001b[39mNone\u001b[39;00m:\n\u001b[1;32m     70\u001b[0m         renderer\u001b[39m.\u001b[39mstart_filter()\n\u001b[0;32m---> 72\u001b[0m     \u001b[39mreturn\u001b[39;00m draw(artist, renderer)\n\u001b[1;32m     73\u001b[0m \u001b[39mfinally\u001b[39;00m:\n\u001b[1;32m     74\u001b[0m     \u001b[39mif\u001b[39;00m artist\u001b[39m.\u001b[39mget_agg_filter() \u001b[39mis\u001b[39;00m \u001b[39mnot\u001b[39;00m \u001b[39mNone\u001b[39;00m:\n",
      "File \u001b[0;32m~/anaconda3/envs/off/lib/python3.10/site-packages/matplotlib/figure.py:3154\u001b[0m, in \u001b[0;36mFigure.draw\u001b[0;34m(self, renderer)\u001b[0m\n\u001b[1;32m   3151\u001b[0m         \u001b[39m# ValueError can occur when resizing a window.\u001b[39;00m\n\u001b[1;32m   3153\u001b[0m \u001b[39mself\u001b[39m\u001b[39m.\u001b[39mpatch\u001b[39m.\u001b[39mdraw(renderer)\n\u001b[0;32m-> 3154\u001b[0m mimage\u001b[39m.\u001b[39;49m_draw_list_compositing_images(\n\u001b[1;32m   3155\u001b[0m     renderer, \u001b[39mself\u001b[39;49m, artists, \u001b[39mself\u001b[39;49m\u001b[39m.\u001b[39;49msuppressComposite)\n\u001b[1;32m   3157\u001b[0m \u001b[39mfor\u001b[39;00m sfig \u001b[39min\u001b[39;00m \u001b[39mself\u001b[39m\u001b[39m.\u001b[39msubfigs:\n\u001b[1;32m   3158\u001b[0m     sfig\u001b[39m.\u001b[39mdraw(renderer)\n",
      "File \u001b[0;32m~/anaconda3/envs/off/lib/python3.10/site-packages/matplotlib/image.py:132\u001b[0m, in \u001b[0;36m_draw_list_compositing_images\u001b[0;34m(renderer, parent, artists, suppress_composite)\u001b[0m\n\u001b[1;32m    130\u001b[0m \u001b[39mif\u001b[39;00m not_composite \u001b[39mor\u001b[39;00m \u001b[39mnot\u001b[39;00m has_images:\n\u001b[1;32m    131\u001b[0m     \u001b[39mfor\u001b[39;00m a \u001b[39min\u001b[39;00m artists:\n\u001b[0;32m--> 132\u001b[0m         a\u001b[39m.\u001b[39;49mdraw(renderer)\n\u001b[1;32m    133\u001b[0m \u001b[39melse\u001b[39;00m:\n\u001b[1;32m    134\u001b[0m     \u001b[39m# Composite any adjacent images together\u001b[39;00m\n\u001b[1;32m    135\u001b[0m     image_group \u001b[39m=\u001b[39m []\n",
      "File \u001b[0;32m~/anaconda3/envs/off/lib/python3.10/site-packages/matplotlib/artist.py:72\u001b[0m, in \u001b[0;36mallow_rasterization.<locals>.draw_wrapper\u001b[0;34m(artist, renderer)\u001b[0m\n\u001b[1;32m     69\u001b[0m     \u001b[39mif\u001b[39;00m artist\u001b[39m.\u001b[39mget_agg_filter() \u001b[39mis\u001b[39;00m \u001b[39mnot\u001b[39;00m \u001b[39mNone\u001b[39;00m:\n\u001b[1;32m     70\u001b[0m         renderer\u001b[39m.\u001b[39mstart_filter()\n\u001b[0;32m---> 72\u001b[0m     \u001b[39mreturn\u001b[39;00m draw(artist, renderer)\n\u001b[1;32m     73\u001b[0m \u001b[39mfinally\u001b[39;00m:\n\u001b[1;32m     74\u001b[0m     \u001b[39mif\u001b[39;00m artist\u001b[39m.\u001b[39mget_agg_filter() \u001b[39mis\u001b[39;00m \u001b[39mnot\u001b[39;00m \u001b[39mNone\u001b[39;00m:\n",
      "File \u001b[0;32m~/anaconda3/envs/off/lib/python3.10/site-packages/matplotlib/axes/_base.py:3070\u001b[0m, in \u001b[0;36m_AxesBase.draw\u001b[0;34m(self, renderer)\u001b[0m\n\u001b[1;32m   3067\u001b[0m \u001b[39mif\u001b[39;00m artists_rasterized:\n\u001b[1;32m   3068\u001b[0m     _draw_rasterized(\u001b[39mself\u001b[39m\u001b[39m.\u001b[39mfigure, artists_rasterized, renderer)\n\u001b[0;32m-> 3070\u001b[0m mimage\u001b[39m.\u001b[39;49m_draw_list_compositing_images(\n\u001b[1;32m   3071\u001b[0m     renderer, \u001b[39mself\u001b[39;49m, artists, \u001b[39mself\u001b[39;49m\u001b[39m.\u001b[39;49mfigure\u001b[39m.\u001b[39;49msuppressComposite)\n\u001b[1;32m   3073\u001b[0m renderer\u001b[39m.\u001b[39mclose_group(\u001b[39m'\u001b[39m\u001b[39maxes\u001b[39m\u001b[39m'\u001b[39m)\n\u001b[1;32m   3074\u001b[0m \u001b[39mself\u001b[39m\u001b[39m.\u001b[39mstale \u001b[39m=\u001b[39m \u001b[39mFalse\u001b[39;00m\n",
      "File \u001b[0;32m~/anaconda3/envs/off/lib/python3.10/site-packages/matplotlib/image.py:132\u001b[0m, in \u001b[0;36m_draw_list_compositing_images\u001b[0;34m(renderer, parent, artists, suppress_composite)\u001b[0m\n\u001b[1;32m    130\u001b[0m \u001b[39mif\u001b[39;00m not_composite \u001b[39mor\u001b[39;00m \u001b[39mnot\u001b[39;00m has_images:\n\u001b[1;32m    131\u001b[0m     \u001b[39mfor\u001b[39;00m a \u001b[39min\u001b[39;00m artists:\n\u001b[0;32m--> 132\u001b[0m         a\u001b[39m.\u001b[39;49mdraw(renderer)\n\u001b[1;32m    133\u001b[0m \u001b[39melse\u001b[39;00m:\n\u001b[1;32m    134\u001b[0m     \u001b[39m# Composite any adjacent images together\u001b[39;00m\n\u001b[1;32m    135\u001b[0m     image_group \u001b[39m=\u001b[39m []\n",
      "File \u001b[0;32m~/anaconda3/envs/off/lib/python3.10/site-packages/matplotlib/artist.py:72\u001b[0m, in \u001b[0;36mallow_rasterization.<locals>.draw_wrapper\u001b[0;34m(artist, renderer)\u001b[0m\n\u001b[1;32m     69\u001b[0m     \u001b[39mif\u001b[39;00m artist\u001b[39m.\u001b[39mget_agg_filter() \u001b[39mis\u001b[39;00m \u001b[39mnot\u001b[39;00m \u001b[39mNone\u001b[39;00m:\n\u001b[1;32m     70\u001b[0m         renderer\u001b[39m.\u001b[39mstart_filter()\n\u001b[0;32m---> 72\u001b[0m     \u001b[39mreturn\u001b[39;00m draw(artist, renderer)\n\u001b[1;32m     73\u001b[0m \u001b[39mfinally\u001b[39;00m:\n\u001b[1;32m     74\u001b[0m     \u001b[39mif\u001b[39;00m artist\u001b[39m.\u001b[39mget_agg_filter() \u001b[39mis\u001b[39;00m \u001b[39mnot\u001b[39;00m \u001b[39mNone\u001b[39;00m:\n",
      "File \u001b[0;32m~/anaconda3/envs/off/lib/python3.10/site-packages/matplotlib/text.py:748\u001b[0m, in \u001b[0;36mText.draw\u001b[0;34m(self, renderer)\u001b[0m\n\u001b[1;32m    745\u001b[0m renderer\u001b[39m.\u001b[39mopen_group(\u001b[39m'\u001b[39m\u001b[39mtext\u001b[39m\u001b[39m'\u001b[39m, \u001b[39mself\u001b[39m\u001b[39m.\u001b[39mget_gid())\n\u001b[1;32m    747\u001b[0m \u001b[39mwith\u001b[39;00m \u001b[39mself\u001b[39m\u001b[39m.\u001b[39m_cm_set(text\u001b[39m=\u001b[39m\u001b[39mself\u001b[39m\u001b[39m.\u001b[39m_get_wrapped_text()):\n\u001b[0;32m--> 748\u001b[0m     bbox, info, descent \u001b[39m=\u001b[39m \u001b[39mself\u001b[39;49m\u001b[39m.\u001b[39;49m_get_layout(renderer)\n\u001b[1;32m    749\u001b[0m     trans \u001b[39m=\u001b[39m \u001b[39mself\u001b[39m\u001b[39m.\u001b[39mget_transform()\n\u001b[1;32m    751\u001b[0m     \u001b[39m# don't use self.get_position here, which refers to text\u001b[39;00m\n\u001b[1;32m    752\u001b[0m     \u001b[39m# position in Text:\u001b[39;00m\n",
      "File \u001b[0;32m~/anaconda3/envs/off/lib/python3.10/site-packages/matplotlib/text.py:381\u001b[0m, in \u001b[0;36mText._get_layout\u001b[0;34m(self, renderer)\u001b[0m\n\u001b[1;32m    379\u001b[0m clean_line, ismath \u001b[39m=\u001b[39m \u001b[39mself\u001b[39m\u001b[39m.\u001b[39m_preprocess_math(line)\n\u001b[1;32m    380\u001b[0m \u001b[39mif\u001b[39;00m clean_line:\n\u001b[0;32m--> 381\u001b[0m     w, h, d \u001b[39m=\u001b[39m _get_text_metrics_with_cache(\n\u001b[1;32m    382\u001b[0m         renderer, clean_line, \u001b[39mself\u001b[39;49m\u001b[39m.\u001b[39;49m_fontproperties,\n\u001b[1;32m    383\u001b[0m         ismath\u001b[39m=\u001b[39;49mismath, dpi\u001b[39m=\u001b[39;49m\u001b[39mself\u001b[39;49m\u001b[39m.\u001b[39;49mfigure\u001b[39m.\u001b[39;49mdpi)\n\u001b[1;32m    384\u001b[0m \u001b[39melse\u001b[39;00m:\n\u001b[1;32m    385\u001b[0m     w \u001b[39m=\u001b[39m h \u001b[39m=\u001b[39m d \u001b[39m=\u001b[39m \u001b[39m0\u001b[39m\n",
      "File \u001b[0;32m~/anaconda3/envs/off/lib/python3.10/site-packages/matplotlib/text.py:69\u001b[0m, in \u001b[0;36m_get_text_metrics_with_cache\u001b[0;34m(renderer, text, fontprop, ismath, dpi)\u001b[0m\n\u001b[1;32m     66\u001b[0m \u001b[39m\u001b[39m\u001b[39m\"\"\"Call ``renderer.get_text_width_height_descent``, caching the results.\"\"\"\u001b[39;00m\n\u001b[1;32m     67\u001b[0m \u001b[39m# Cached based on a copy of fontprop so that later in-place mutations of\u001b[39;00m\n\u001b[1;32m     68\u001b[0m \u001b[39m# the passed-in argument do not mess up the cache.\u001b[39;00m\n\u001b[0;32m---> 69\u001b[0m \u001b[39mreturn\u001b[39;00m _get_text_metrics_with_cache_impl(\n\u001b[1;32m     70\u001b[0m     weakref\u001b[39m.\u001b[39;49mref(renderer), text, fontprop\u001b[39m.\u001b[39;49mcopy(), ismath, dpi)\n",
      "File \u001b[0;32m~/anaconda3/envs/off/lib/python3.10/site-packages/matplotlib/text.py:77\u001b[0m, in \u001b[0;36m_get_text_metrics_with_cache_impl\u001b[0;34m(renderer_ref, text, fontprop, ismath, dpi)\u001b[0m\n\u001b[1;32m     73\u001b[0m \u001b[39m@functools\u001b[39m\u001b[39m.\u001b[39mlru_cache(\u001b[39m4096\u001b[39m)\n\u001b[1;32m     74\u001b[0m \u001b[39mdef\u001b[39;00m \u001b[39m_get_text_metrics_with_cache_impl\u001b[39m(\n\u001b[1;32m     75\u001b[0m         renderer_ref, text, fontprop, ismath, dpi):\n\u001b[1;32m     76\u001b[0m     \u001b[39m# dpi is unused, but participates in cache invalidation (via the renderer).\u001b[39;00m\n\u001b[0;32m---> 77\u001b[0m     \u001b[39mreturn\u001b[39;00m renderer_ref()\u001b[39m.\u001b[39;49mget_text_width_height_descent(text, fontprop, ismath)\n",
      "File \u001b[0;32m~/anaconda3/envs/off/lib/python3.10/site-packages/matplotlib/backends/backend_agg.py:221\u001b[0m, in \u001b[0;36mRendererAgg.get_text_width_height_descent\u001b[0;34m(self, s, prop, ismath)\u001b[0m\n\u001b[1;32m    218\u001b[0m     \u001b[39mreturn\u001b[39;00m width, height, descent\n\u001b[1;32m    220\u001b[0m font \u001b[39m=\u001b[39m \u001b[39mself\u001b[39m\u001b[39m.\u001b[39m_prepare_font(prop)\n\u001b[0;32m--> 221\u001b[0m font\u001b[39m.\u001b[39;49mset_text(s, \u001b[39m0.0\u001b[39;49m, flags\u001b[39m=\u001b[39;49mget_hinting_flag())\n\u001b[1;32m    222\u001b[0m w, h \u001b[39m=\u001b[39m font\u001b[39m.\u001b[39mget_width_height()  \u001b[39m# width and height of unrotated string\u001b[39;00m\n\u001b[1;32m    223\u001b[0m d \u001b[39m=\u001b[39m font\u001b[39m.\u001b[39mget_descent()\n",
      "\u001b[0;31mKeyboardInterrupt\u001b[0m: "
     ]
    }
   ],
   "source": [
    "%reload_ext pyprql.magic\n",
    "%reload_ext sql\n",
    "\n",
    "%config PrqlMagic.autopolars = True\n",
    "%config SqlMagic.autopolars = True\n",
    "# recipes = os.environ['RECIPES_ASSET_URL']\n",
    "# !wget http://192.168.0.143:3003/recipes.parquet\n",
    "# !curl -sL https://raw.githubusercontent.com/mwaskom/seaborn-data/master/penguins.csv -o penguins.csv\n",
    "\n",
    "%prql duckdb:///doto.duckdb\n",
    "%sql duckdb:///doto.duckdb\n",
    "\n",
    "# %sql CREATE TABLE off_products AS SELECT * FROM read_parquet('./data/openfoodfacts_products.parquet') LIMIT 200\n",
    "# df = %sql SELECT * FROM read_parquet('./data/openfoodfacts_products.parquet')\n",
    "\n",
    "\n",
    "# df = %sql SELECT * FROM test_recipes WHERE REGEXP_MATCHES(name, 'mex*') \n",
    "# %sql SELECT n_ingredients FROM read_parquet('http://192.168.0.143:3003/recipes.parquet') WHERE REGEXP_MATCHES(name, 'mex*')\n",
    "%sqlplot pie --table test_recipes --column name minutes\n",
    "# TODO: doesn't work w/ polars\n",
    "# %sqlplot histogram --table test_recipes --column n_ingredients --bins 100\n",
    "\n",
    "# %sql SELECT * FROM test_recipes WHERE REGEXP_MATCHES(name, 'mex*')\n",
    "# display(df)\n",
    "\n",
    "# df = %prql prql target:sql.duckdb\n",
    "# prql target:sql.duckdb\n",
    "# from `test_recipes`  \n",
    "# sort {-n_ingredients} \n",
    "# display(df)\n"
   ]
  }
 ],
 "metadata": {
  "kernelspec": {
   "display_name": "lab",
   "language": "python",
   "name": "python3"
  },
  "language_info": {
   "codemirror_mode": {
    "name": "ipython",
    "version": 3
   },
   "file_extension": ".py",
   "mimetype": "text/x-python",
   "name": "python",
   "nbconvert_exporter": "python",
   "pygments_lexer": "ipython3",
   "version": "3.10.13"
  }
 },
 "nbformat": 4,
 "nbformat_minor": 5
}
